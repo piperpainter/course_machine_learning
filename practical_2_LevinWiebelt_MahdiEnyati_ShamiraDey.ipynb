{
 "cells": [
  {
   "cell_type": "markdown",
   "metadata": {},
   "source": [
    "# Practical 2"
   ]
  },
  {
   "cell_type": "markdown",
   "metadata": {},
   "source": [
    "# Task 1: The Data\n",
    "\n",
    "We use the mouse protein expression dataset: https://archive.ics.uci.edu/ml/datasets/Mice+Protein+Expression\n",
    "Please use the code provided below for loading the dataset.\n",
    "Let's start with a bit of exploration.\n",
    "\n",
    "### Tasks 1.1: Dataset Exploration \n",
    "- How many samples / features are provided?\n",
    "- How many labels does the dataset have?\n",
    "- What is the value range of the individuals predictors?\n",
    "- Visualize the 10 first samples of the dataset in a form that highlights their differences.\n",
    "- Visualize the variance of each predictor."
   ]
  },
  {
   "cell_type": "code",
   "execution_count": 1,
   "metadata": {},
   "outputs": [],
   "source": [
    "import pandas as pd\n",
    "import numpy as np\n",
    "from matplotlib import pyplot as plt\n",
    "\n",
    "file = 'data/Data_Cortex_Nuclear.csv'\n",
    "df = pd.read_csv(file)\n",
    "\n",
    "N = 10  # use only every tenth sample (row)\n",
    "X_all = df.iloc[::N,1:65].to_numpy()\n",
    "t_all = (df['Behavior'] == 'S/C').to_numpy()[::N]\n",
    "\n",
    "idx = ~np.any(np.isnan(X_all), axis=1) #check which rows are without missings\n",
    "X_all = X_all[idx]\n",
    "t_all = t_all[idx]"
   ]
  },
  {
   "cell_type": "code",
   "execution_count": 2,
   "metadata": {},
   "outputs": [
    {
     "data": {
      "text/html": [
       "<div>\n",
       "<style scoped>\n",
       "    .dataframe tbody tr th:only-of-type {\n",
       "        vertical-align: middle;\n",
       "    }\n",
       "\n",
       "    .dataframe tbody tr th {\n",
       "        vertical-align: top;\n",
       "    }\n",
       "\n",
       "    .dataframe thead th {\n",
       "        text-align: right;\n",
       "    }\n",
       "</style>\n",
       "<table border=\"1\" class=\"dataframe\">\n",
       "  <thead>\n",
       "    <tr style=\"text-align: right;\">\n",
       "      <th></th>\n",
       "      <th>DYRK1A_N</th>\n",
       "      <th>ITSN1_N</th>\n",
       "      <th>BDNF_N</th>\n",
       "      <th>NR1_N</th>\n",
       "      <th>NR2A_N</th>\n",
       "      <th>pAKT_N</th>\n",
       "      <th>pBRAF_N</th>\n",
       "      <th>pCAMKII_N</th>\n",
       "      <th>pCREB_N</th>\n",
       "      <th>pELK_N</th>\n",
       "      <th>...</th>\n",
       "      <th>SHH_N</th>\n",
       "      <th>BAD_N</th>\n",
       "      <th>BCL2_N</th>\n",
       "      <th>pS6_N</th>\n",
       "      <th>pCFOS_N</th>\n",
       "      <th>SYP_N</th>\n",
       "      <th>H3AcK18_N</th>\n",
       "      <th>EGR1_N</th>\n",
       "      <th>H3MeK4_N</th>\n",
       "      <th>CaNA_N</th>\n",
       "    </tr>\n",
       "  </thead>\n",
       "  <tbody>\n",
       "    <tr>\n",
       "      <th>count</th>\n",
       "      <td>1077.000000</td>\n",
       "      <td>1077.000000</td>\n",
       "      <td>1077.000000</td>\n",
       "      <td>1077.000000</td>\n",
       "      <td>1077.000000</td>\n",
       "      <td>1077.000000</td>\n",
       "      <td>1077.000000</td>\n",
       "      <td>1077.000000</td>\n",
       "      <td>1077.000000</td>\n",
       "      <td>1077.000000</td>\n",
       "      <td>...</td>\n",
       "      <td>1080.000000</td>\n",
       "      <td>867.000000</td>\n",
       "      <td>795.000000</td>\n",
       "      <td>1080.000000</td>\n",
       "      <td>1005.000000</td>\n",
       "      <td>1080.000000</td>\n",
       "      <td>900.000000</td>\n",
       "      <td>870.000000</td>\n",
       "      <td>810.000000</td>\n",
       "      <td>1080.000000</td>\n",
       "    </tr>\n",
       "    <tr>\n",
       "      <th>mean</th>\n",
       "      <td>0.425810</td>\n",
       "      <td>0.617102</td>\n",
       "      <td>0.319088</td>\n",
       "      <td>2.297269</td>\n",
       "      <td>3.843934</td>\n",
       "      <td>0.233168</td>\n",
       "      <td>0.181846</td>\n",
       "      <td>3.537109</td>\n",
       "      <td>0.212574</td>\n",
       "      <td>1.428682</td>\n",
       "      <td>...</td>\n",
       "      <td>0.226676</td>\n",
       "      <td>0.157914</td>\n",
       "      <td>0.134762</td>\n",
       "      <td>0.121521</td>\n",
       "      <td>0.131053</td>\n",
       "      <td>0.446073</td>\n",
       "      <td>0.169609</td>\n",
       "      <td>0.183135</td>\n",
       "      <td>0.205440</td>\n",
       "      <td>1.337784</td>\n",
       "    </tr>\n",
       "    <tr>\n",
       "      <th>std</th>\n",
       "      <td>0.249362</td>\n",
       "      <td>0.251640</td>\n",
       "      <td>0.049383</td>\n",
       "      <td>0.347293</td>\n",
       "      <td>0.933100</td>\n",
       "      <td>0.041634</td>\n",
       "      <td>0.027042</td>\n",
       "      <td>1.295169</td>\n",
       "      <td>0.032587</td>\n",
       "      <td>0.466904</td>\n",
       "      <td>...</td>\n",
       "      <td>0.028989</td>\n",
       "      <td>0.029537</td>\n",
       "      <td>0.027417</td>\n",
       "      <td>0.014276</td>\n",
       "      <td>0.023863</td>\n",
       "      <td>0.066432</td>\n",
       "      <td>0.059402</td>\n",
       "      <td>0.040406</td>\n",
       "      <td>0.055514</td>\n",
       "      <td>0.317126</td>\n",
       "    </tr>\n",
       "    <tr>\n",
       "      <th>min</th>\n",
       "      <td>0.145327</td>\n",
       "      <td>0.245359</td>\n",
       "      <td>0.115181</td>\n",
       "      <td>1.330831</td>\n",
       "      <td>1.737540</td>\n",
       "      <td>0.063236</td>\n",
       "      <td>0.064043</td>\n",
       "      <td>1.343998</td>\n",
       "      <td>0.112812</td>\n",
       "      <td>0.429032</td>\n",
       "      <td>...</td>\n",
       "      <td>0.155869</td>\n",
       "      <td>0.088305</td>\n",
       "      <td>0.080657</td>\n",
       "      <td>0.067254</td>\n",
       "      <td>0.085419</td>\n",
       "      <td>0.258626</td>\n",
       "      <td>0.079691</td>\n",
       "      <td>0.105537</td>\n",
       "      <td>0.101787</td>\n",
       "      <td>0.586479</td>\n",
       "    </tr>\n",
       "    <tr>\n",
       "      <th>25%</th>\n",
       "      <td>0.288121</td>\n",
       "      <td>0.473361</td>\n",
       "      <td>0.287444</td>\n",
       "      <td>2.057411</td>\n",
       "      <td>3.155678</td>\n",
       "      <td>0.205755</td>\n",
       "      <td>0.164595</td>\n",
       "      <td>2.479834</td>\n",
       "      <td>0.190823</td>\n",
       "      <td>1.203665</td>\n",
       "      <td>...</td>\n",
       "      <td>0.206395</td>\n",
       "      <td>0.136424</td>\n",
       "      <td>0.115554</td>\n",
       "      <td>0.110839</td>\n",
       "      <td>0.113506</td>\n",
       "      <td>0.398082</td>\n",
       "      <td>0.125848</td>\n",
       "      <td>0.155121</td>\n",
       "      <td>0.165143</td>\n",
       "      <td>1.081423</td>\n",
       "    </tr>\n",
       "    <tr>\n",
       "      <th>50%</th>\n",
       "      <td>0.366378</td>\n",
       "      <td>0.565782</td>\n",
       "      <td>0.316564</td>\n",
       "      <td>2.296546</td>\n",
       "      <td>3.760855</td>\n",
       "      <td>0.231177</td>\n",
       "      <td>0.182302</td>\n",
       "      <td>3.326520</td>\n",
       "      <td>0.210594</td>\n",
       "      <td>1.355846</td>\n",
       "      <td>...</td>\n",
       "      <td>0.224000</td>\n",
       "      <td>0.152313</td>\n",
       "      <td>0.129468</td>\n",
       "      <td>0.121626</td>\n",
       "      <td>0.126523</td>\n",
       "      <td>0.448459</td>\n",
       "      <td>0.158240</td>\n",
       "      <td>0.174935</td>\n",
       "      <td>0.193994</td>\n",
       "      <td>1.317441</td>\n",
       "    </tr>\n",
       "    <tr>\n",
       "      <th>75%</th>\n",
       "      <td>0.487711</td>\n",
       "      <td>0.698032</td>\n",
       "      <td>0.348197</td>\n",
       "      <td>2.528481</td>\n",
       "      <td>4.440011</td>\n",
       "      <td>0.257261</td>\n",
       "      <td>0.197418</td>\n",
       "      <td>4.481940</td>\n",
       "      <td>0.234595</td>\n",
       "      <td>1.561316</td>\n",
       "      <td>...</td>\n",
       "      <td>0.241655</td>\n",
       "      <td>0.174017</td>\n",
       "      <td>0.148235</td>\n",
       "      <td>0.131955</td>\n",
       "      <td>0.143652</td>\n",
       "      <td>0.490773</td>\n",
       "      <td>0.197876</td>\n",
       "      <td>0.204542</td>\n",
       "      <td>0.235215</td>\n",
       "      <td>1.585824</td>\n",
       "    </tr>\n",
       "    <tr>\n",
       "      <th>max</th>\n",
       "      <td>2.516367</td>\n",
       "      <td>2.602662</td>\n",
       "      <td>0.497160</td>\n",
       "      <td>3.757641</td>\n",
       "      <td>8.482553</td>\n",
       "      <td>0.539050</td>\n",
       "      <td>0.317066</td>\n",
       "      <td>7.464070</td>\n",
       "      <td>0.306247</td>\n",
       "      <td>6.113347</td>\n",
       "      <td>...</td>\n",
       "      <td>0.358289</td>\n",
       "      <td>0.282016</td>\n",
       "      <td>0.261506</td>\n",
       "      <td>0.158748</td>\n",
       "      <td>0.256529</td>\n",
       "      <td>0.759588</td>\n",
       "      <td>0.479763</td>\n",
       "      <td>0.360692</td>\n",
       "      <td>0.413903</td>\n",
       "      <td>2.129791</td>\n",
       "    </tr>\n",
       "  </tbody>\n",
       "</table>\n",
       "<p>8 rows × 77 columns</p>\n",
       "</div>"
      ],
      "text/plain": [
       "          DYRK1A_N      ITSN1_N       BDNF_N        NR1_N       NR2A_N  \\\n",
       "count  1077.000000  1077.000000  1077.000000  1077.000000  1077.000000   \n",
       "mean      0.425810     0.617102     0.319088     2.297269     3.843934   \n",
       "std       0.249362     0.251640     0.049383     0.347293     0.933100   \n",
       "min       0.145327     0.245359     0.115181     1.330831     1.737540   \n",
       "25%       0.288121     0.473361     0.287444     2.057411     3.155678   \n",
       "50%       0.366378     0.565782     0.316564     2.296546     3.760855   \n",
       "75%       0.487711     0.698032     0.348197     2.528481     4.440011   \n",
       "max       2.516367     2.602662     0.497160     3.757641     8.482553   \n",
       "\n",
       "            pAKT_N      pBRAF_N    pCAMKII_N      pCREB_N       pELK_N  ...  \\\n",
       "count  1077.000000  1077.000000  1077.000000  1077.000000  1077.000000  ...   \n",
       "mean      0.233168     0.181846     3.537109     0.212574     1.428682  ...   \n",
       "std       0.041634     0.027042     1.295169     0.032587     0.466904  ...   \n",
       "min       0.063236     0.064043     1.343998     0.112812     0.429032  ...   \n",
       "25%       0.205755     0.164595     2.479834     0.190823     1.203665  ...   \n",
       "50%       0.231177     0.182302     3.326520     0.210594     1.355846  ...   \n",
       "75%       0.257261     0.197418     4.481940     0.234595     1.561316  ...   \n",
       "max       0.539050     0.317066     7.464070     0.306247     6.113347  ...   \n",
       "\n",
       "             SHH_N       BAD_N      BCL2_N        pS6_N      pCFOS_N  \\\n",
       "count  1080.000000  867.000000  795.000000  1080.000000  1005.000000   \n",
       "mean      0.226676    0.157914    0.134762     0.121521     0.131053   \n",
       "std       0.028989    0.029537    0.027417     0.014276     0.023863   \n",
       "min       0.155869    0.088305    0.080657     0.067254     0.085419   \n",
       "25%       0.206395    0.136424    0.115554     0.110839     0.113506   \n",
       "50%       0.224000    0.152313    0.129468     0.121626     0.126523   \n",
       "75%       0.241655    0.174017    0.148235     0.131955     0.143652   \n",
       "max       0.358289    0.282016    0.261506     0.158748     0.256529   \n",
       "\n",
       "             SYP_N   H3AcK18_N      EGR1_N    H3MeK4_N       CaNA_N  \n",
       "count  1080.000000  900.000000  870.000000  810.000000  1080.000000  \n",
       "mean      0.446073    0.169609    0.183135    0.205440     1.337784  \n",
       "std       0.066432    0.059402    0.040406    0.055514     0.317126  \n",
       "min       0.258626    0.079691    0.105537    0.101787     0.586479  \n",
       "25%       0.398082    0.125848    0.155121    0.165143     1.081423  \n",
       "50%       0.448459    0.158240    0.174935    0.193994     1.317441  \n",
       "75%       0.490773    0.197876    0.204542    0.235215     1.585824  \n",
       "max       0.759588    0.479763    0.360692    0.413903     2.129791  \n",
       "\n",
       "[8 rows x 77 columns]"
      ]
     },
     "execution_count": 2,
     "metadata": {},
     "output_type": "execute_result"
    }
   ],
   "source": [
    "df.describe(include = [np.number])"
   ]
  },
  {
   "cell_type": "code",
   "execution_count": 3,
   "metadata": {},
   "outputs": [
    {
     "data": {
      "text/html": [
       "<div>\n",
       "<style scoped>\n",
       "    .dataframe tbody tr th:only-of-type {\n",
       "        vertical-align: middle;\n",
       "    }\n",
       "\n",
       "    .dataframe tbody tr th {\n",
       "        vertical-align: top;\n",
       "    }\n",
       "\n",
       "    .dataframe thead th {\n",
       "        text-align: right;\n",
       "    }\n",
       "</style>\n",
       "<table border=\"1\" class=\"dataframe\">\n",
       "  <thead>\n",
       "    <tr style=\"text-align: right;\">\n",
       "      <th></th>\n",
       "      <th>MouseID</th>\n",
       "      <th>Genotype</th>\n",
       "      <th>Treatment</th>\n",
       "      <th>Behavior</th>\n",
       "      <th>class</th>\n",
       "    </tr>\n",
       "  </thead>\n",
       "  <tbody>\n",
       "    <tr>\n",
       "      <th>count</th>\n",
       "      <td>1080</td>\n",
       "      <td>1080</td>\n",
       "      <td>1080</td>\n",
       "      <td>1080</td>\n",
       "      <td>1080</td>\n",
       "    </tr>\n",
       "    <tr>\n",
       "      <th>unique</th>\n",
       "      <td>1080</td>\n",
       "      <td>2</td>\n",
       "      <td>2</td>\n",
       "      <td>2</td>\n",
       "      <td>8</td>\n",
       "    </tr>\n",
       "    <tr>\n",
       "      <th>top</th>\n",
       "      <td>18899_2</td>\n",
       "      <td>Control</td>\n",
       "      <td>Memantine</td>\n",
       "      <td>S/C</td>\n",
       "      <td>c-SC-m</td>\n",
       "    </tr>\n",
       "    <tr>\n",
       "      <th>freq</th>\n",
       "      <td>1</td>\n",
       "      <td>570</td>\n",
       "      <td>570</td>\n",
       "      <td>555</td>\n",
       "      <td>150</td>\n",
       "    </tr>\n",
       "  </tbody>\n",
       "</table>\n",
       "</div>"
      ],
      "text/plain": [
       "        MouseID Genotype  Treatment Behavior   class\n",
       "count      1080     1080       1080     1080    1080\n",
       "unique     1080        2          2        2       8\n",
       "top     18899_2  Control  Memantine      S/C  c-SC-m\n",
       "freq          1      570        570      555     150"
      ]
     },
     "execution_count": 3,
     "metadata": {},
     "output_type": "execute_result"
    }
   ],
   "source": [
    "df.describe(include = [object])"
   ]
  },
  {
   "cell_type": "markdown",
   "metadata": {},
   "source": [
    "The dataset contains 77 numerical columns, which may be used as features, as well as 1080 observations (or 'samples'). It is to be noted, that it is a longitudinal dataset and therefore contains repeated measures on the individual subjects. Correlation between the observations is present. 8 different labels are contained, as indicated by the facotr-variable 'class'.\n",
    "\n",
    "In the following a random subset of the data is used with 105 samples and 64 features, where no missing values are present. The 8 labels are coarse-grained into two classes decribing the behaviour of the subject. This is the target variable."
   ]
  },
  {
   "cell_type": "markdown",
   "metadata": {},
   "source": [
    "**Nr. of samples/features & labels**"
   ]
  },
  {
   "cell_type": "code",
   "execution_count": 4,
   "metadata": {},
   "outputs": [
    {
     "name": "stdout",
     "output_type": "stream",
     "text": [
      "Nr of samples: 105\n",
      "Nr of features: 64\n",
      "\n",
      "Nr. of labels: 8\n",
      "\n",
      "Label names: \n",
      "['c-CS-m' 'c-SC-m' 'c-CS-s' 'c-SC-s' 't-CS-m' 't-SC-m' 't-CS-s' 't-SC-s']\n"
     ]
    }
   ],
   "source": [
    "print('Nr of samples: ' + str(X_all.shape[0]))\n",
    "print('Nr of features: ' + str(X_all.shape[1]))\n",
    "print('')\n",
    "\n",
    "nr_labels = len(df['class'].unique())\n",
    "print('Nr. of labels: ' + str(nr_labels))\n",
    "print('')\n",
    "print('Label names: ')\n",
    "print(df['class'].unique())"
   ]
  },
  {
   "cell_type": "markdown",
   "metadata": {},
   "source": [
    "**Task 1.2: Data Preprocessing**:  \n",
    "- Write a function `split_data(X, y, frac, seed)` that first shuffles your training data and then splits it into a training and a test set. `frac` determines the relative size of the test dataset, `seed` makes sure we get reproducible \n",
    "results.  \n",
    "- Write a function `preprocess(X)` which zero-centers your data and sets variance to one (per-feature)."
   ]
  },
  {
   "cell_type": "code",
   "execution_count": 5,
   "metadata": {},
   "outputs": [],
   "source": [
    "def split_data(X, y, frac=0.3, seed=None):\n",
    "    if seed is not None:\n",
    "        np.random.seed(seed)\n",
    "\n",
    "    # shuffle vectors\n",
    "    idx = list(range(len(y)))\n",
    "    idx_shuffled = np.random.permutation(idx)\n",
    "    y_shuffled = y[idx_shuffled]\n",
    "    X_shuffled = X[idx_shuffled]\n",
    "    \n",
    "    # slice vectors\n",
    "    idx_cutoff = round((1-frac)*len(y)) #seperates training from test (in this order)\n",
    "    X_train = X_shuffled[:idx_cutoff, :]\n",
    "    X_test = X_shuffled[idx_cutoff:, :]\n",
    "    y_train = y_shuffled[:idx_cutoff]\n",
    "    y_test = y_shuffled[idx_cutoff:]\n",
    "    return X_train, X_test, y_train, y_test\n",
    "\n",
    "def preprocess(X):\n",
    "    X_norm = (X - X.mean(axis = 0)) / X.std(axis = 0)\n",
    "    return X_norm\n",
    "\n",
    "def calculate_accuracy(t_pred, t_true):\n",
    "    accuracy_list = [1 if pred == null else 0 for pred, null in zip(t_pred, t_true)]\n",
    "    accuracy = sum(accuracy_list)/len(accuracy_list)\n",
    "    return accuracy"
   ]
  },
  {
   "cell_type": "code",
   "execution_count": 6,
   "metadata": {},
   "outputs": [],
   "source": [
    "X_train, X_test, t_train, t_test = split_data(X_all, t_all)\n",
    "X_train = preprocess(X_train)\n",
    "X_test = preprocess(X_test)"
   ]
  },
  {
   "cell_type": "code",
   "execution_count": 7,
   "metadata": {},
   "outputs": [
    {
     "data": {
      "text/html": [
       "<div>\n",
       "<style scoped>\n",
       "    .dataframe tbody tr th:only-of-type {\n",
       "        vertical-align: middle;\n",
       "    }\n",
       "\n",
       "    .dataframe tbody tr th {\n",
       "        vertical-align: top;\n",
       "    }\n",
       "\n",
       "    .dataframe thead th {\n",
       "        text-align: right;\n",
       "    }\n",
       "</style>\n",
       "<table border=\"1\" class=\"dataframe\">\n",
       "  <thead>\n",
       "    <tr style=\"text-align: right;\">\n",
       "      <th></th>\n",
       "      <th>0</th>\n",
       "      <th>1</th>\n",
       "      <th>2</th>\n",
       "      <th>3</th>\n",
       "      <th>4</th>\n",
       "      <th>5</th>\n",
       "      <th>6</th>\n",
       "      <th>7</th>\n",
       "      <th>8</th>\n",
       "      <th>9</th>\n",
       "      <th>...</th>\n",
       "      <th>54</th>\n",
       "      <th>55</th>\n",
       "      <th>56</th>\n",
       "      <th>57</th>\n",
       "      <th>58</th>\n",
       "      <th>59</th>\n",
       "      <th>60</th>\n",
       "      <th>61</th>\n",
       "      <th>62</th>\n",
       "      <th>63</th>\n",
       "    </tr>\n",
       "  </thead>\n",
       "  <tbody>\n",
       "    <tr>\n",
       "      <th>count</th>\n",
       "      <td>74.000</td>\n",
       "      <td>74.000</td>\n",
       "      <td>74.000</td>\n",
       "      <td>74.000</td>\n",
       "      <td>74.000</td>\n",
       "      <td>74.000</td>\n",
       "      <td>74.000</td>\n",
       "      <td>74.000</td>\n",
       "      <td>74.000</td>\n",
       "      <td>74.000</td>\n",
       "      <td>...</td>\n",
       "      <td>74.000</td>\n",
       "      <td>74.000</td>\n",
       "      <td>74.000</td>\n",
       "      <td>74.000</td>\n",
       "      <td>74.000</td>\n",
       "      <td>74.000</td>\n",
       "      <td>74.000</td>\n",
       "      <td>74.000</td>\n",
       "      <td>74.000</td>\n",
       "      <td>74.000</td>\n",
       "    </tr>\n",
       "    <tr>\n",
       "      <th>mean</th>\n",
       "      <td>-0.000</td>\n",
       "      <td>-0.000</td>\n",
       "      <td>-0.000</td>\n",
       "      <td>0.000</td>\n",
       "      <td>-0.000</td>\n",
       "      <td>0.000</td>\n",
       "      <td>-0.000</td>\n",
       "      <td>-0.000</td>\n",
       "      <td>-0.000</td>\n",
       "      <td>0.000</td>\n",
       "      <td>...</td>\n",
       "      <td>0.000</td>\n",
       "      <td>-0.000</td>\n",
       "      <td>0.000</td>\n",
       "      <td>-0.000</td>\n",
       "      <td>0.000</td>\n",
       "      <td>0.000</td>\n",
       "      <td>0.000</td>\n",
       "      <td>-0.000</td>\n",
       "      <td>-0.000</td>\n",
       "      <td>-0.000</td>\n",
       "    </tr>\n",
       "    <tr>\n",
       "      <th>std</th>\n",
       "      <td>1.007</td>\n",
       "      <td>1.007</td>\n",
       "      <td>1.007</td>\n",
       "      <td>1.007</td>\n",
       "      <td>1.007</td>\n",
       "      <td>1.007</td>\n",
       "      <td>1.007</td>\n",
       "      <td>1.007</td>\n",
       "      <td>1.007</td>\n",
       "      <td>1.007</td>\n",
       "      <td>...</td>\n",
       "      <td>1.007</td>\n",
       "      <td>1.007</td>\n",
       "      <td>1.007</td>\n",
       "      <td>1.007</td>\n",
       "      <td>1.007</td>\n",
       "      <td>1.007</td>\n",
       "      <td>1.007</td>\n",
       "      <td>1.007</td>\n",
       "      <td>1.007</td>\n",
       "      <td>1.007</td>\n",
       "    </tr>\n",
       "    <tr>\n",
       "      <th>min</th>\n",
       "      <td>-1.143</td>\n",
       "      <td>-1.596</td>\n",
       "      <td>-2.515</td>\n",
       "      <td>-2.368</td>\n",
       "      <td>-2.130</td>\n",
       "      <td>-1.709</td>\n",
       "      <td>-2.265</td>\n",
       "      <td>-1.684</td>\n",
       "      <td>-2.718</td>\n",
       "      <td>-1.558</td>\n",
       "      <td>...</td>\n",
       "      <td>-2.403</td>\n",
       "      <td>-2.682</td>\n",
       "      <td>-1.231</td>\n",
       "      <td>-2.518</td>\n",
       "      <td>-2.773</td>\n",
       "      <td>-2.156</td>\n",
       "      <td>-2.852</td>\n",
       "      <td>-2.077</td>\n",
       "      <td>-2.270</td>\n",
       "      <td>-2.999</td>\n",
       "    </tr>\n",
       "    <tr>\n",
       "      <th>25%</th>\n",
       "      <td>-0.600</td>\n",
       "      <td>-0.720</td>\n",
       "      <td>-0.577</td>\n",
       "      <td>-0.726</td>\n",
       "      <td>-0.515</td>\n",
       "      <td>-0.751</td>\n",
       "      <td>-0.658</td>\n",
       "      <td>-0.800</td>\n",
       "      <td>-0.577</td>\n",
       "      <td>-0.513</td>\n",
       "      <td>...</td>\n",
       "      <td>-0.498</td>\n",
       "      <td>-0.548</td>\n",
       "      <td>-0.593</td>\n",
       "      <td>-0.615</td>\n",
       "      <td>-0.648</td>\n",
       "      <td>-0.921</td>\n",
       "      <td>-0.491</td>\n",
       "      <td>-0.746</td>\n",
       "      <td>-0.602</td>\n",
       "      <td>-0.517</td>\n",
       "    </tr>\n",
       "    <tr>\n",
       "      <th>50%</th>\n",
       "      <td>-0.268</td>\n",
       "      <td>-0.157</td>\n",
       "      <td>-0.070</td>\n",
       "      <td>0.221</td>\n",
       "      <td>-0.017</td>\n",
       "      <td>-0.111</td>\n",
       "      <td>-0.081</td>\n",
       "      <td>-0.175</td>\n",
       "      <td>0.026</td>\n",
       "      <td>-0.123</td>\n",
       "      <td>...</td>\n",
       "      <td>-0.057</td>\n",
       "      <td>0.114</td>\n",
       "      <td>-0.280</td>\n",
       "      <td>-0.073</td>\n",
       "      <td>-0.046</td>\n",
       "      <td>0.108</td>\n",
       "      <td>-0.033</td>\n",
       "      <td>-0.022</td>\n",
       "      <td>0.020</td>\n",
       "      <td>0.094</td>\n",
       "    </tr>\n",
       "    <tr>\n",
       "      <th>75%</th>\n",
       "      <td>0.275</td>\n",
       "      <td>0.404</td>\n",
       "      <td>0.713</td>\n",
       "      <td>0.670</td>\n",
       "      <td>0.505</td>\n",
       "      <td>0.562</td>\n",
       "      <td>0.487</td>\n",
       "      <td>0.751</td>\n",
       "      <td>0.607</td>\n",
       "      <td>0.424</td>\n",
       "      <td>...</td>\n",
       "      <td>0.645</td>\n",
       "      <td>0.639</td>\n",
       "      <td>0.399</td>\n",
       "      <td>0.607</td>\n",
       "      <td>0.788</td>\n",
       "      <td>0.732</td>\n",
       "      <td>0.580</td>\n",
       "      <td>0.685</td>\n",
       "      <td>0.606</td>\n",
       "      <td>0.760</td>\n",
       "    </tr>\n",
       "    <tr>\n",
       "      <th>max</th>\n",
       "      <td>6.123</td>\n",
       "      <td>4.398</td>\n",
       "      <td>2.534</td>\n",
       "      <td>2.449</td>\n",
       "      <td>2.565</td>\n",
       "      <td>2.513</td>\n",
       "      <td>2.780</td>\n",
       "      <td>2.332</td>\n",
       "      <td>2.605</td>\n",
       "      <td>5.920</td>\n",
       "      <td>...</td>\n",
       "      <td>2.579</td>\n",
       "      <td>2.888</td>\n",
       "      <td>4.835</td>\n",
       "      <td>2.843</td>\n",
       "      <td>2.232</td>\n",
       "      <td>2.733</td>\n",
       "      <td>2.513</td>\n",
       "      <td>2.042</td>\n",
       "      <td>3.198</td>\n",
       "      <td>1.895</td>\n",
       "    </tr>\n",
       "  </tbody>\n",
       "</table>\n",
       "<p>8 rows × 64 columns</p>\n",
       "</div>"
      ],
      "text/plain": [
       "           0       1       2       3       4       5       6       7       8   \\\n",
       "count  74.000  74.000  74.000  74.000  74.000  74.000  74.000  74.000  74.000   \n",
       "mean   -0.000  -0.000  -0.000   0.000  -0.000   0.000  -0.000  -0.000  -0.000   \n",
       "std     1.007   1.007   1.007   1.007   1.007   1.007   1.007   1.007   1.007   \n",
       "min    -1.143  -1.596  -2.515  -2.368  -2.130  -1.709  -2.265  -1.684  -2.718   \n",
       "25%    -0.600  -0.720  -0.577  -0.726  -0.515  -0.751  -0.658  -0.800  -0.577   \n",
       "50%    -0.268  -0.157  -0.070   0.221  -0.017  -0.111  -0.081  -0.175   0.026   \n",
       "75%     0.275   0.404   0.713   0.670   0.505   0.562   0.487   0.751   0.607   \n",
       "max     6.123   4.398   2.534   2.449   2.565   2.513   2.780   2.332   2.605   \n",
       "\n",
       "           9   ...      54      55      56      57      58      59      60  \\\n",
       "count  74.000  ...  74.000  74.000  74.000  74.000  74.000  74.000  74.000   \n",
       "mean    0.000  ...   0.000  -0.000   0.000  -0.000   0.000   0.000   0.000   \n",
       "std     1.007  ...   1.007   1.007   1.007   1.007   1.007   1.007   1.007   \n",
       "min    -1.558  ...  -2.403  -2.682  -1.231  -2.518  -2.773  -2.156  -2.852   \n",
       "25%    -0.513  ...  -0.498  -0.548  -0.593  -0.615  -0.648  -0.921  -0.491   \n",
       "50%    -0.123  ...  -0.057   0.114  -0.280  -0.073  -0.046   0.108  -0.033   \n",
       "75%     0.424  ...   0.645   0.639   0.399   0.607   0.788   0.732   0.580   \n",
       "max     5.920  ...   2.579   2.888   4.835   2.843   2.232   2.733   2.513   \n",
       "\n",
       "           61      62      63  \n",
       "count  74.000  74.000  74.000  \n",
       "mean   -0.000  -0.000  -0.000  \n",
       "std     1.007   1.007   1.007  \n",
       "min    -2.077  -2.270  -2.999  \n",
       "25%    -0.746  -0.602  -0.517  \n",
       "50%    -0.022   0.020   0.094  \n",
       "75%     0.685   0.606   0.760  \n",
       "max     2.042   3.198   1.895  \n",
       "\n",
       "[8 rows x 64 columns]"
      ]
     },
     "execution_count": 7,
     "metadata": {},
     "output_type": "execute_result"
    }
   ],
   "source": [
    "pd.DataFrame(X_train).describe().round(3)"
   ]
  },
  {
   "cell_type": "code",
   "execution_count": 8,
   "metadata": {},
   "outputs": [
    {
     "data": {
      "text/plain": [
       "(74, 64)"
      ]
     },
     "execution_count": 8,
     "metadata": {},
     "output_type": "execute_result"
    }
   ],
   "source": [
    "X_train.shape"
   ]
  },
  {
   "cell_type": "code",
   "execution_count": 9,
   "metadata": {},
   "outputs": [
    {
     "data": {
      "text/plain": [
       "(74,)"
      ]
     },
     "execution_count": 9,
     "metadata": {},
     "output_type": "execute_result"
    }
   ],
   "source": [
    "t_train.shape"
   ]
  },
  {
   "cell_type": "code",
   "execution_count": 10,
   "metadata": {},
   "outputs": [
    {
     "data": {
      "text/plain": [
       "(31, 64)"
      ]
     },
     "execution_count": 10,
     "metadata": {},
     "output_type": "execute_result"
    }
   ],
   "source": [
    "X_test.shape"
   ]
  },
  {
   "cell_type": "code",
   "execution_count": 11,
   "metadata": {},
   "outputs": [
    {
     "data": {
      "text/plain": [
       "(31,)"
      ]
     },
     "execution_count": 11,
     "metadata": {},
     "output_type": "execute_result"
    }
   ],
   "source": [
    "t_test.shape"
   ]
  },
  {
   "cell_type": "markdown",
   "metadata": {},
   "source": [
    "# Task 2: LDA\n",
    "\n",
    "First, use Linear Discriminant Analysis to separate the classes. As discussed in the Bishop in pg. 186-189, we can find a weight vector $\\vec{w}$ that performs a projection of the i-th input data point $\\vec{x}_i$\n",
    "\n",
    "$p =   \\vec{w}^T \\vec{x}_i$\n",
    "\n",
    "that optimally separates the classes.\n",
    "\n",
    "Use the analytic solution to compute the optimal weights $\\vec{w}$ from the training set data. \n",
    "\n",
    "**Task 2.1**\n",
    "\n",
    "1. Implement a function `compute_lda_weights(x, y)` manually, which carries out LDA using the data `x,y`. \n",
    "2. Apply this function on your training data.\n",
    "3. Visualize the obtained weight vector $\\vec{w}$ using a `plt.stemplot`."
   ]
  },
  {
   "cell_type": "code",
   "execution_count": 12,
   "metadata": {},
   "outputs": [],
   "source": [
    "def compute_lda_weights(x, y):\n",
    "    \n",
    "    # seperate predictors into class 1 and class 0 obs. by boolean indexing\n",
    "    c1_obs = x[y]\n",
    "    c0_obs = x[~y]\n",
    "    # compute columnwise (array-axis 0) class means\n",
    "    c1_mean_vec = np.mean(c1_obs, axis = 0)\n",
    "    c0_mean_vec = np.mean(c0_obs, axis = 0)\n",
    "    m_diff = c1_mean_vec - c0_mean_vec\n",
    "    \n",
    "    # within-class covariance matrices   \n",
    "    c1_obs_centered = np.transpose(c1_obs - c1_mean_vec) #transformation needed to match dimensions\n",
    "    c1_cov_mat = np.matmul(c1_obs_centered, np.transpose(c1_obs_centered))\n",
    "    c0_obs_centered = np.transpose(c0_obs - c0_mean_vec)\n",
    "    c0_cov_mat = np.matmul(c0_obs_centered, np.transpose(c0_obs_centered))\n",
    "    \n",
    "    Sw = c1_cov_mat + c0_cov_mat\n",
    "    Sw_inv = np.linalg.inv(Sw)\n",
    "    weights = np.matmul(Sw_inv, c1_mean_vec - c0_mean_vec)\n",
    "    \n",
    "    return c1_mean_vec, c0_mean_vec, m_diff, weights"
   ]
  },
  {
   "cell_type": "code",
   "execution_count": 13,
   "metadata": {},
   "outputs": [
    {
     "data": {
      "text/plain": [
       "Text(0.5, 0, 'predictors')"
      ]
     },
     "execution_count": 13,
     "metadata": {},
     "output_type": "execute_result"
    },
    {
     "data": {
      "image/png": "[encoded data removed]",
      "text/plain": [
       "<Figure size 432x288 with 1 Axes>"
      ]
     },
     "metadata": {
      "needs_background": "light"
     },
     "output_type": "display_data"
    }
   ],
   "source": [
    "m1, m0, mdiff, w_lda = compute_lda_weights(X_train, t_train)\n",
    "\n",
    "plt.stem(w_lda.flatten(), use_line_collection=True)\n",
    "plt.title('Computed LDA weights')\n",
    "plt.ylabel('weight')\n",
    "plt.xlabel('predictors')"
   ]
  },
  {
   "cell_type": "markdown",
   "metadata": {},
   "source": [
    "### Task 2.3\n",
    "\n",
    "Project the training data and the test data on $\\vec{w}$. Visualize the class separation using a two-color histogram. \n",
    "- Is the class separation good?\n",
    "- Is there a big difference between training and test data?"
   ]
  },
  {
   "cell_type": "code",
   "execution_count": 14,
   "metadata": {},
   "outputs": [],
   "source": [
    "X_cl0 = X_train[~t_train]\n",
    "X_cl1 = X_train[t_train]\n",
    "X_cl0_proj = X_cl0 @ w_lda # substract mean from predictor?\n",
    "X_cl1_proj = X_cl1 @ w_lda # substract mean from predictor?\n",
    "\n",
    "X_cl0_test = X_test[~t_test]\n",
    "X_cl1_test = X_test[t_test]\n",
    "X_cl0_test_proj = X_cl0_test @ w_lda # substract mean from predictor?\n",
    "X_cl1_test_proj = X_cl1_test @ w_lda # substract mean from predictor?"
   ]
  },
  {
   "cell_type": "code",
   "execution_count": 15,
   "metadata": {},
   "outputs": [
    {
     "data": {
      "image/png": "[encoded data removed]",
      "text/plain": [
       "<Figure size 432x288 with 1 Axes>"
      ]
     },
     "metadata": {
      "needs_background": "light"
     },
     "output_type": "display_data"
    }
   ],
   "source": [
    "plt.title('Training data projection')\n",
    "_ = plt.hist(X_cl0_proj,label='class 0',alpha=0.5)\n",
    "_ = plt.hist(X_cl1_proj,label='class 1',alpha=0.5)\n",
    "_ = plt.legend()"
   ]
  },
  {
   "cell_type": "code",
   "execution_count": 16,
   "metadata": {},
   "outputs": [
    {
     "data": {
      "image/png": "[encoded data removed]",
      "text/plain": [
       "<Figure size 432x288 with 1 Axes>"
      ]
     },
     "metadata": {
      "needs_background": "light"
     },
     "output_type": "display_data"
    }
   ],
   "source": [
    "plt.title('Test data projection')\n",
    "_ = plt.hist(X_cl0_test_proj,label='class 0',alpha=0.5)\n",
    "_ = plt.hist(X_cl1_test_proj,label='class 1',alpha=0.5)\n",
    "_ = plt.legend()"
   ]
  },
  {
   "cell_type": "markdown",
   "metadata": {},
   "source": [
    "### Task 2.4 \n",
    "\n",
    "Now we make class predictions based on the projections. Read https://en.wikipedia.org/wiki/Linear_discriminant_analysis#Fisher's_linear_discriminant and compute threshold $c$ for the projected values $p$ based on the training data. Print the value of $c$ and plot $c$ into the histograms of projected values you made before!\n",
    "\n",
    "Use $c$ to assign class labels for training and test set. Determine the classification errors (in terms of accuracy) on both datasets and print them. "
   ]
  },
  {
   "cell_type": "code",
   "execution_count": 17,
   "metadata": {},
   "outputs": [
    {
     "data": {
      "text/plain": [
       "0.1461"
      ]
     },
     "execution_count": 17,
     "metadata": {},
     "output_type": "execute_result"
    }
   ],
   "source": [
    "c = np.matmul(w_lda, 1/2 * (m1 + m0))\n",
    "c.round(4)"
   ]
  },
  {
   "cell_type": "code",
   "execution_count": 18,
   "metadata": {},
   "outputs": [
    {
     "data": {
      "image/png": "[encoded data removed]",
      "text/plain": [
       "<Figure size 432x288 with 1 Axes>"
      ]
     },
     "metadata": {
      "needs_background": "light"
     },
     "output_type": "display_data"
    }
   ],
   "source": [
    "plt.title('Training data projection')\n",
    "_ = plt.hist(X_cl0_proj,label='class 0',alpha=0.5)\n",
    "_ = plt.hist(X_cl1_proj,label='class 1',alpha=0.5)\n",
    "_ = plt.axvline(c, color = 'red')"
   ]
  },
  {
   "cell_type": "code",
   "execution_count": 19,
   "metadata": {},
   "outputs": [
    {
     "data": {
      "image/png": "[encoded data removed]",
      "text/plain": [
       "<Figure size 432x288 with 1 Axes>"
      ]
     },
     "metadata": {
      "needs_background": "light"
     },
     "output_type": "display_data"
    }
   ],
   "source": [
    "plt.title('Test data projection')\n",
    "_ = plt.hist(X_cl0_test_proj,label='class 0',alpha=0.5)\n",
    "_ = plt.hist(X_cl1_test_proj,label='class 1',alpha=0.5)\n",
    "_ = plt.axvline(c, color = 'red')"
   ]
  },
  {
   "cell_type": "code",
   "execution_count": 20,
   "metadata": {},
   "outputs": [],
   "source": [
    "t_pred = np.matmul(X_train, w_lda) >= c\n",
    "t_pred_test = np.matmul(X_test, w_lda) >= c"
   ]
  },
  {
   "cell_type": "code",
   "execution_count": 21,
   "metadata": {},
   "outputs": [
    {
     "name": "stdout",
     "output_type": "stream",
     "text": [
      "Training Set Cross Table\n"
     ]
    },
    {
     "data": {
      "text/html": [
       "<div>\n",
       "<style scoped>\n",
       "    .dataframe tbody tr th:only-of-type {\n",
       "        vertical-align: middle;\n",
       "    }\n",
       "\n",
       "    .dataframe tbody tr th {\n",
       "        vertical-align: top;\n",
       "    }\n",
       "\n",
       "    .dataframe thead th {\n",
       "        text-align: right;\n",
       "    }\n",
       "</style>\n",
       "<table border=\"1\" class=\"dataframe\">\n",
       "  <thead>\n",
       "    <tr style=\"text-align: right;\">\n",
       "      <th>t_true</th>\n",
       "      <th>False</th>\n",
       "      <th>True</th>\n",
       "    </tr>\n",
       "    <tr>\n",
       "      <th>t_pred</th>\n",
       "      <th></th>\n",
       "      <th></th>\n",
       "    </tr>\n",
       "  </thead>\n",
       "  <tbody>\n",
       "    <tr>\n",
       "      <th>False</th>\n",
       "      <td>39</td>\n",
       "      <td>0</td>\n",
       "    </tr>\n",
       "    <tr>\n",
       "      <th>True</th>\n",
       "      <td>0</td>\n",
       "      <td>35</td>\n",
       "    </tr>\n",
       "  </tbody>\n",
       "</table>\n",
       "</div>"
      ],
      "text/plain": [
       "t_true  False  True \n",
       "t_pred              \n",
       "False      39      0\n",
       "True        0     35"
      ]
     },
     "execution_count": 21,
     "metadata": {},
     "output_type": "execute_result"
    }
   ],
   "source": [
    "print('Training Set Cross Table')\n",
    "pd.crosstab(t_pred,t_train, rownames = ['t_pred'], colnames = ['t_true'])"
   ]
  },
  {
   "cell_type": "code",
   "execution_count": 22,
   "metadata": {},
   "outputs": [
    {
     "name": "stdout",
     "output_type": "stream",
     "text": [
      "Test set corss table\n"
     ]
    },
    {
     "data": {
      "text/html": [
       "<div>\n",
       "<style scoped>\n",
       "    .dataframe tbody tr th:only-of-type {\n",
       "        vertical-align: middle;\n",
       "    }\n",
       "\n",
       "    .dataframe tbody tr th {\n",
       "        vertical-align: top;\n",
       "    }\n",
       "\n",
       "    .dataframe thead th {\n",
       "        text-align: right;\n",
       "    }\n",
       "</style>\n",
       "<table border=\"1\" class=\"dataframe\">\n",
       "  <thead>\n",
       "    <tr style=\"text-align: right;\">\n",
       "      <th>t_true</th>\n",
       "      <th>False</th>\n",
       "      <th>True</th>\n",
       "    </tr>\n",
       "    <tr>\n",
       "      <th>t_pred</th>\n",
       "      <th></th>\n",
       "      <th></th>\n",
       "    </tr>\n",
       "  </thead>\n",
       "  <tbody>\n",
       "    <tr>\n",
       "      <th>False</th>\n",
       "      <td>11</td>\n",
       "      <td>4</td>\n",
       "    </tr>\n",
       "    <tr>\n",
       "      <th>True</th>\n",
       "      <td>2</td>\n",
       "      <td>14</td>\n",
       "    </tr>\n",
       "  </tbody>\n",
       "</table>\n",
       "</div>"
      ],
      "text/plain": [
       "t_true  False  True \n",
       "t_pred              \n",
       "False      11      4\n",
       "True        2     14"
      ]
     },
     "execution_count": 22,
     "metadata": {},
     "output_type": "execute_result"
    }
   ],
   "source": [
    "print('Test set corss table')\n",
    "pd.crosstab(t_pred_test,t_test, rownames = ['t_pred'], colnames = ['t_true'])"
   ]
  },
  {
   "cell_type": "code",
   "execution_count": 23,
   "metadata": {},
   "outputs": [
    {
     "data": {
      "text/plain": [
       "0.8064516129032258"
      ]
     },
     "execution_count": 23,
     "metadata": {},
     "output_type": "execute_result"
    }
   ],
   "source": [
    "calculate_accuracy(t_pred_test, t_test)"
   ]
  },
  {
   "cell_type": "markdown",
   "metadata": {},
   "source": [
    "## Task 3: Logistic Regression\n",
    "\n",
    "Next, we will consider classification using Logistic Regression. \n",
    "\n",
    "For this task, we will use a different dataset:  \n",
    "It consists of activations from a convolutional neural network (ResNet18) for images of cats and dogs.\n",
    "The dataset contains 2,000 samples (i.e. CNN activations) and 256 features (i.e. the CNN activations have 256 dimensions). A target value of 0 indicates a cat, 1 a dog.\n",
    "\n",
    "Below, you find all imports that are necessary.\n"
   ]
  },
  {
   "cell_type": "code",
   "execution_count": 24,
   "metadata": {},
   "outputs": [],
   "source": [
    "import numpy as np\n",
    "from sklearn.linear_model import LogisticRegression\n",
    "import pickle\n",
    "\n",
    "X_all, t_all = pickle.load(open('data/cnn_features.pickle', 'rb'))\n",
    "X_train, X_test, t_train, t_test = split_data(X_all, t_all)\n",
    "X_train = preprocess(X_train)\n",
    "X_test = preprocess(X_test)"
   ]
  },
  {
   "cell_type": "code",
   "execution_count": 25,
   "metadata": {},
   "outputs": [
    {
     "data": {
      "text/plain": [
       "(1400, 256)"
      ]
     },
     "execution_count": 25,
     "metadata": {},
     "output_type": "execute_result"
    }
   ],
   "source": [
    "X_train.shape"
   ]
  },
  {
   "cell_type": "code",
   "execution_count": 26,
   "metadata": {},
   "outputs": [
    {
     "data": {
      "text/plain": [
       "(600, 256)"
      ]
     },
     "execution_count": 26,
     "metadata": {},
     "output_type": "execute_result"
    }
   ],
   "source": [
    "X_test.shape"
   ]
  },
  {
   "cell_type": "code",
   "execution_count": 27,
   "metadata": {},
   "outputs": [
    {
     "data": {
      "text/plain": [
       "(1400,)"
      ]
     },
     "execution_count": 27,
     "metadata": {},
     "output_type": "execute_result"
    }
   ],
   "source": [
    "t_train.shape"
   ]
  },
  {
   "cell_type": "code",
   "execution_count": 28,
   "metadata": {},
   "outputs": [
    {
     "data": {
      "text/plain": [
       "(600,)"
      ]
     },
     "execution_count": 28,
     "metadata": {},
     "output_type": "execute_result"
    }
   ],
   "source": [
    "t_test.shape"
   ]
  },
  {
   "cell_type": "markdown",
   "metadata": {},
   "source": [
    "**Task 3.0: Normalize the data**\n",
    "\n",
    "Make sure the data has has zero mean and variance 1 per feature."
   ]
  },
  {
   "cell_type": "code",
   "execution_count": 29,
   "metadata": {},
   "outputs": [
    {
     "data": {
      "text/html": [
       "<div>\n",
       "<style scoped>\n",
       "    .dataframe tbody tr th:only-of-type {\n",
       "        vertical-align: middle;\n",
       "    }\n",
       "\n",
       "    .dataframe tbody tr th {\n",
       "        vertical-align: top;\n",
       "    }\n",
       "\n",
       "    .dataframe thead th {\n",
       "        text-align: right;\n",
       "    }\n",
       "</style>\n",
       "<table border=\"1\" class=\"dataframe\">\n",
       "  <thead>\n",
       "    <tr style=\"text-align: right;\">\n",
       "      <th></th>\n",
       "      <th>0</th>\n",
       "      <th>1</th>\n",
       "      <th>2</th>\n",
       "      <th>3</th>\n",
       "      <th>4</th>\n",
       "      <th>5</th>\n",
       "      <th>6</th>\n",
       "      <th>7</th>\n",
       "      <th>8</th>\n",
       "      <th>9</th>\n",
       "      <th>...</th>\n",
       "      <th>246</th>\n",
       "      <th>247</th>\n",
       "      <th>248</th>\n",
       "      <th>249</th>\n",
       "      <th>250</th>\n",
       "      <th>251</th>\n",
       "      <th>252</th>\n",
       "      <th>253</th>\n",
       "      <th>254</th>\n",
       "      <th>255</th>\n",
       "    </tr>\n",
       "  </thead>\n",
       "  <tbody>\n",
       "    <tr>\n",
       "      <th>count</th>\n",
       "      <td>1400.000</td>\n",
       "      <td>1400.000</td>\n",
       "      <td>1400.000</td>\n",
       "      <td>1400.000</td>\n",
       "      <td>1400.000</td>\n",
       "      <td>1400.000</td>\n",
       "      <td>1400.000</td>\n",
       "      <td>1400.000</td>\n",
       "      <td>1400.000</td>\n",
       "      <td>1400.000</td>\n",
       "      <td>...</td>\n",
       "      <td>1400.000</td>\n",
       "      <td>1400.000</td>\n",
       "      <td>1400.000</td>\n",
       "      <td>1400.000</td>\n",
       "      <td>1400.000</td>\n",
       "      <td>1400.000</td>\n",
       "      <td>1400.000</td>\n",
       "      <td>1400.000</td>\n",
       "      <td>1400.000</td>\n",
       "      <td>1400.000</td>\n",
       "    </tr>\n",
       "    <tr>\n",
       "      <th>mean</th>\n",
       "      <td>0.000</td>\n",
       "      <td>0.000</td>\n",
       "      <td>0.000</td>\n",
       "      <td>0.000</td>\n",
       "      <td>0.000</td>\n",
       "      <td>0.000</td>\n",
       "      <td>0.000</td>\n",
       "      <td>-0.000</td>\n",
       "      <td>-0.000</td>\n",
       "      <td>0.000</td>\n",
       "      <td>...</td>\n",
       "      <td>0.000</td>\n",
       "      <td>0.000</td>\n",
       "      <td>0.000</td>\n",
       "      <td>-0.000</td>\n",
       "      <td>0.000</td>\n",
       "      <td>-0.000</td>\n",
       "      <td>0.000</td>\n",
       "      <td>0.000</td>\n",
       "      <td>-0.000</td>\n",
       "      <td>0.000</td>\n",
       "    </tr>\n",
       "    <tr>\n",
       "      <th>std</th>\n",
       "      <td>1.000</td>\n",
       "      <td>1.000</td>\n",
       "      <td>1.000</td>\n",
       "      <td>1.000</td>\n",
       "      <td>1.000</td>\n",
       "      <td>1.000</td>\n",
       "      <td>1.000</td>\n",
       "      <td>1.000</td>\n",
       "      <td>1.000</td>\n",
       "      <td>1.000</td>\n",
       "      <td>...</td>\n",
       "      <td>1.000</td>\n",
       "      <td>1.000</td>\n",
       "      <td>1.000</td>\n",
       "      <td>1.000</td>\n",
       "      <td>1.000</td>\n",
       "      <td>1.000</td>\n",
       "      <td>1.000</td>\n",
       "      <td>1.000</td>\n",
       "      <td>1.000</td>\n",
       "      <td>1.000</td>\n",
       "    </tr>\n",
       "    <tr>\n",
       "      <th>min</th>\n",
       "      <td>-2.792</td>\n",
       "      <td>-3.289</td>\n",
       "      <td>-3.111</td>\n",
       "      <td>-3.132</td>\n",
       "      <td>-3.133</td>\n",
       "      <td>-3.467</td>\n",
       "      <td>-3.880</td>\n",
       "      <td>-3.120</td>\n",
       "      <td>-3.058</td>\n",
       "      <td>-2.920</td>\n",
       "      <td>...</td>\n",
       "      <td>-3.678</td>\n",
       "      <td>-3.516</td>\n",
       "      <td>-2.961</td>\n",
       "      <td>-3.277</td>\n",
       "      <td>-3.845</td>\n",
       "      <td>-3.994</td>\n",
       "      <td>-2.721</td>\n",
       "      <td>-3.870</td>\n",
       "      <td>-3.251</td>\n",
       "      <td>-3.248</td>\n",
       "    </tr>\n",
       "    <tr>\n",
       "      <th>25%</th>\n",
       "      <td>-0.696</td>\n",
       "      <td>-0.678</td>\n",
       "      <td>-0.689</td>\n",
       "      <td>-0.716</td>\n",
       "      <td>-0.671</td>\n",
       "      <td>-0.673</td>\n",
       "      <td>-0.644</td>\n",
       "      <td>-0.667</td>\n",
       "      <td>-0.665</td>\n",
       "      <td>-0.684</td>\n",
       "      <td>...</td>\n",
       "      <td>-0.676</td>\n",
       "      <td>-0.677</td>\n",
       "      <td>-0.704</td>\n",
       "      <td>-0.661</td>\n",
       "      <td>-0.638</td>\n",
       "      <td>-0.627</td>\n",
       "      <td>-0.739</td>\n",
       "      <td>-0.637</td>\n",
       "      <td>-0.680</td>\n",
       "      <td>-0.674</td>\n",
       "    </tr>\n",
       "    <tr>\n",
       "      <th>50%</th>\n",
       "      <td>-0.058</td>\n",
       "      <td>-0.028</td>\n",
       "      <td>-0.008</td>\n",
       "      <td>0.056</td>\n",
       "      <td>-0.015</td>\n",
       "      <td>0.019</td>\n",
       "      <td>0.008</td>\n",
       "      <td>0.034</td>\n",
       "      <td>-0.064</td>\n",
       "      <td>-0.023</td>\n",
       "      <td>...</td>\n",
       "      <td>0.017</td>\n",
       "      <td>0.011</td>\n",
       "      <td>-0.065</td>\n",
       "      <td>0.026</td>\n",
       "      <td>0.055</td>\n",
       "      <td>0.041</td>\n",
       "      <td>-0.029</td>\n",
       "      <td>0.011</td>\n",
       "      <td>0.000</td>\n",
       "      <td>-0.015</td>\n",
       "    </tr>\n",
       "    <tr>\n",
       "      <th>75%</th>\n",
       "      <td>0.653</td>\n",
       "      <td>0.594</td>\n",
       "      <td>0.702</td>\n",
       "      <td>0.694</td>\n",
       "      <td>0.656</td>\n",
       "      <td>0.652</td>\n",
       "      <td>0.611</td>\n",
       "      <td>0.657</td>\n",
       "      <td>0.659</td>\n",
       "      <td>0.675</td>\n",
       "      <td>...</td>\n",
       "      <td>0.668</td>\n",
       "      <td>0.676</td>\n",
       "      <td>0.650</td>\n",
       "      <td>0.743</td>\n",
       "      <td>0.718</td>\n",
       "      <td>0.670</td>\n",
       "      <td>0.688</td>\n",
       "      <td>0.643</td>\n",
       "      <td>0.717</td>\n",
       "      <td>0.705</td>\n",
       "    </tr>\n",
       "    <tr>\n",
       "      <th>max</th>\n",
       "      <td>4.116</td>\n",
       "      <td>4.535</td>\n",
       "      <td>3.172</td>\n",
       "      <td>3.022</td>\n",
       "      <td>3.190</td>\n",
       "      <td>3.388</td>\n",
       "      <td>3.612</td>\n",
       "      <td>3.433</td>\n",
       "      <td>3.266</td>\n",
       "      <td>2.915</td>\n",
       "      <td>...</td>\n",
       "      <td>3.443</td>\n",
       "      <td>2.749</td>\n",
       "      <td>4.487</td>\n",
       "      <td>3.471</td>\n",
       "      <td>2.363</td>\n",
       "      <td>3.437</td>\n",
       "      <td>3.337</td>\n",
       "      <td>3.007</td>\n",
       "      <td>3.239</td>\n",
       "      <td>3.238</td>\n",
       "    </tr>\n",
       "  </tbody>\n",
       "</table>\n",
       "<p>8 rows × 256 columns</p>\n",
       "</div>"
      ],
      "text/plain": [
       "            0         1         2         3         4         5         6    \\\n",
       "count  1400.000  1400.000  1400.000  1400.000  1400.000  1400.000  1400.000   \n",
       "mean      0.000     0.000     0.000     0.000     0.000     0.000     0.000   \n",
       "std       1.000     1.000     1.000     1.000     1.000     1.000     1.000   \n",
       "min      -2.792    -3.289    -3.111    -3.132    -3.133    -3.467    -3.880   \n",
       "25%      -0.696    -0.678    -0.689    -0.716    -0.671    -0.673    -0.644   \n",
       "50%      -0.058    -0.028    -0.008     0.056    -0.015     0.019     0.008   \n",
       "75%       0.653     0.594     0.702     0.694     0.656     0.652     0.611   \n",
       "max       4.116     4.535     3.172     3.022     3.190     3.388     3.612   \n",
       "\n",
       "            7         8         9    ...       246       247       248  \\\n",
       "count  1400.000  1400.000  1400.000  ...  1400.000  1400.000  1400.000   \n",
       "mean     -0.000    -0.000     0.000  ...     0.000     0.000     0.000   \n",
       "std       1.000     1.000     1.000  ...     1.000     1.000     1.000   \n",
       "min      -3.120    -3.058    -2.920  ...    -3.678    -3.516    -2.961   \n",
       "25%      -0.667    -0.665    -0.684  ...    -0.676    -0.677    -0.704   \n",
       "50%       0.034    -0.064    -0.023  ...     0.017     0.011    -0.065   \n",
       "75%       0.657     0.659     0.675  ...     0.668     0.676     0.650   \n",
       "max       3.433     3.266     2.915  ...     3.443     2.749     4.487   \n",
       "\n",
       "            249       250       251       252       253       254       255  \n",
       "count  1400.000  1400.000  1400.000  1400.000  1400.000  1400.000  1400.000  \n",
       "mean     -0.000     0.000    -0.000     0.000     0.000    -0.000     0.000  \n",
       "std       1.000     1.000     1.000     1.000     1.000     1.000     1.000  \n",
       "min      -3.277    -3.845    -3.994    -2.721    -3.870    -3.251    -3.248  \n",
       "25%      -0.661    -0.638    -0.627    -0.739    -0.637    -0.680    -0.674  \n",
       "50%       0.026     0.055     0.041    -0.029     0.011     0.000    -0.015  \n",
       "75%       0.743     0.718     0.670     0.688     0.643     0.717     0.705  \n",
       "max       3.471     2.363     3.437     3.337     3.007     3.239     3.238  \n",
       "\n",
       "[8 rows x 256 columns]"
      ]
     },
     "execution_count": 29,
     "metadata": {},
     "output_type": "execute_result"
    }
   ],
   "source": [
    "pd.DataFrame(X_train).describe().round(3)"
   ]
  },
  {
   "cell_type": "code",
   "execution_count": 30,
   "metadata": {},
   "outputs": [
    {
     "data": {
      "text/plain": [
       "array([1, 0])"
      ]
     },
     "execution_count": 30,
     "metadata": {},
     "output_type": "execute_result"
    }
   ],
   "source": [
    "pd.Series(t_all).unique()"
   ]
  },
  {
   "cell_type": "markdown",
   "metadata": {},
   "source": [
    "**Task 3.1: Iterative Reweighted Least Squares**\n",
    "\n",
    "1. Implement the IRLS algorithm and output at each iteration the current training accuracy. Remember the weight are updated according to:\n",
    "$$ w' = w - ( \\Phi^T R \\Phi ) ^ {-1} \\Phi^T (y - t)$$\n",
    "Where $y$ is the prediction, $t$ the ground truth target, $R$ the weighting matrix and $\\Phi$ the design matrix.  \n",
    "Hints:  \n",
    "(a) There is a bias term in logistic regression  \n",
    "(b) Use a small value for weight init to avoid numerical problems.\n",
    "\n",
    "2. Apply the IRLS algorithm on data and compute the test accuracy.\n",
    "3. Compare the results of your implementation to the sklearn implementation of `LogisticRegression(penalty='none')`. Do you get the same result?"
   ]
  },
  {
   "cell_type": "code",
   "execution_count": 31,
   "metadata": {},
   "outputs": [],
   "source": [
    "def sigma(x):\n",
    "        return  (1 / (1 + np.exp(-x)))\n",
    "    \n",
    "def calc_eta(weights, x):\n",
    "        return(weights.T @ x)\n",
    "    \n",
    "\n",
    "def IRLS(X, t, threshold = 0.01):\n",
    "    \n",
    "    def update_weights(weights, y, R, t=t, X=X):\n",
    "        XRX_inv = np.linalg.inv(X.T @ R @ X)\n",
    "        result = weights - (XRX_inv @ X.T @ (y-t))\n",
    "        return result, weights\n",
    "        \n",
    "    def update_predictors(weights, X=X):\n",
    "        y = np.array([sigma(calc_eta(weights, x)) for x in X])\n",
    "        R = np.diag((y * (1-y)).ravel())\n",
    "        return y, R\n",
    "    \n",
    "    # initialize weights\n",
    "    nr_samples = X.shape[0]\n",
    "    nr_features = X.shape[1]\n",
    "    weights = np.zeros((nr_features)) + 0.1\n",
    "    \n",
    "    # calculate predictors and weights repeatedly\n",
    "    for i in range(20):\n",
    "        y, R = update_predictors(weights)\n",
    "        weights, old_weights = update_weights(weights, y, R)\n",
    "        acc = calculate_accuracy(y.round(), t)\n",
    "        print(\"round \" + str(i) + ' - training set accuracy: ' + str(acc))\n",
    "        \n",
    "        #check convergence\n",
    "        changes = np.absolute(weights - old_weights)\n",
    "        if all(np.less_equal(changes, threshold)):\n",
    "            print('Convergence')\n",
    "            break\n",
    "    \n",
    "    \n",
    "    return weights"
   ]
  },
  {
   "cell_type": "code",
   "execution_count": 32,
   "metadata": {},
   "outputs": [
    {
     "name": "stdout",
     "output_type": "stream",
     "text": [
      "round 0 - training set accuracy: 0.6142857142857143\n",
      "round 1 - training set accuracy: 0.8978571428571429\n",
      "round 2 - training set accuracy: 0.9635714285714285\n",
      "round 3 - training set accuracy: 0.9721428571428572\n",
      "round 4 - training set accuracy: 0.9792857142857143\n",
      "round 5 - training set accuracy: 0.9935714285714285\n",
      "round 6 - training set accuracy: 1.0\n",
      "round 7 - training set accuracy: 1.0\n",
      "round 8 - training set accuracy: 1.0\n",
      "round 9 - training set accuracy: 1.0\n",
      "round 10 - training set accuracy: 1.0\n",
      "round 11 - training set accuracy: 1.0\n",
      "round 12 - training set accuracy: 1.0\n",
      "round 13 - training set accuracy: 1.0\n",
      "round 14 - training set accuracy: 1.0\n",
      "round 15 - training set accuracy: 1.0\n",
      "round 16 - training set accuracy: 1.0\n",
      "round 17 - training set accuracy: 1.0\n",
      "round 18 - training set accuracy: 1.0\n",
      "round 19 - training set accuracy: 1.0\n"
     ]
    }
   ],
   "source": [
    "w_irls = IRLS(X_train, t_train, threshold = .01)"
   ]
  },
  {
   "cell_type": "code",
   "execution_count": 33,
   "metadata": {},
   "outputs": [
    {
     "name": "stdout",
     "output_type": "stream",
     "text": [
      "Test Accuracy\n",
      "0.85\n"
     ]
    }
   ],
   "source": [
    "y = np.array([sigma(calc_eta(w_irls, x)) for x in X_test])\n",
    "print('Test Accuracy')\n",
    "print(calculate_accuracy(y.round(), t_test))"
   ]
  },
  {
   "cell_type": "markdown",
   "metadata": {},
   "source": [
    "### Check with sklearn"
   ]
  },
  {
   "cell_type": "code",
   "execution_count": 34,
   "metadata": {},
   "outputs": [
    {
     "name": "stdout",
     "output_type": "stream",
     "text": [
      "Training accuracy\n",
      "1.0\n",
      "Test accuracy\n",
      "0.8783333333333333\n"
     ]
    }
   ],
   "source": [
    "from sklearn.linear_model import LogisticRegression\n",
    "\n",
    "logreg = LogisticRegression(penalty = 'none')\n",
    "logreg.fit(X_train, t_train.ravel())\n",
    "\n",
    "print('Training accuracy')\n",
    "t_pred = logreg.predict(X_train)\n",
    "print(calculate_accuracy(t_pred, t_train))\n",
    "\n",
    "print('Test accuracy')\n",
    "t_pred = logreg.predict(X_test)\n",
    "score_noreg = calculate_accuracy(t_pred, t_test)\n",
    "print(score_noreg)"
   ]
  },
  {
   "cell_type": "markdown",
   "metadata": {},
   "source": [
    "**Task 3.2: Logistic Regression with Regularization**\n",
    "\n",
    "1. Set sklearn's penalty parameter to `l1` and `l2`. Use the range `np.linspace(0.02, 1, 25)` for the parameter `C`, which controls the strength of regularization. Where is the regularization strongest, for small or big `C`?   \n",
    "Hint: For `l1` regularization you can use the `saga` solver.\n",
    "2. Plot strength of regularization over accuracy. Does regularization improve the scores?\n",
    "3. Visualize the coefficients (or just a subset of all coefficient for a better overview) of the regularized settings and the unregularized setting. What do you observe?\n",
    "3. Compare the coefficients to the LDA weights."
   ]
  },
  {
   "cell_type": "code",
   "execution_count": 35,
   "metadata": {},
   "outputs": [],
   "source": [
    "from matplotlib import pyplot as plt\n",
    "import random"
   ]
  },
  {
   "cell_type": "code",
   "execution_count": 36,
   "metadata": {},
   "outputs": [],
   "source": [
    "C = np.linspace(.02, 1, 25)\n",
    "\n",
    "logreg_l2 = [LogisticRegression(penalty = 'l2', C = c).fit(X_train, t_train.ravel()) for c in C]\n",
    "t_pred_l2 = [i.predict(X_test) for i in logreg_l2]\n",
    "scores_l2 = [calculate_accuracy(t_pred, t_test) for t_pred in t_pred_l2]\n",
    "\n",
    "logreg_l1 = [LogisticRegression(penalty = 'l1', C = c, solver = 'liblinear').fit(X_train, t_train.ravel()) for c in C]\n",
    "t_pred_l1 = [i.predict(X_test) for i in logreg_l1]\n",
    "scores_l1 = [calculate_accuracy(t_pred, t_test) for t_pred in t_pred_l1]"
   ]
  },
  {
   "cell_type": "code",
   "execution_count": 37,
   "metadata": {},
   "outputs": [
    {
     "data": {
      "image/png": "[encoded data removed]",
      "text/plain": [
       "<Figure size 432x288 with 1 Axes>"
      ]
     },
     "metadata": {
      "needs_background": "light"
     },
     "output_type": "display_data"
    }
   ],
   "source": [
    "regplot = [None, None, None]\n",
    "l1_plot, = plt.plot(np.linspace(0.02, 1, 25), scores_l1, '-o')\n",
    "l1_plot.set_label('l1')\n",
    "l2_plot, = plt.plot(np.linspace(0.02, 1, 25), scores_l2, '-o')\n",
    "l2_plot.set_label('l2')\n",
    "noreg_plot, = plt.plot(np.linspace(0.02, 1, 25), [score_noreg]*25, '-')\n",
    "noreg_plot.set_label('noreg')\n",
    "plt.xlabel('Inverse Regularization Parameter C')\n",
    "plt.legend()\n",
    "plt.title('Test Accuracy')\n",
    "plt.show()"
   ]
  },
  {
   "cell_type": "code",
   "execution_count": 38,
   "metadata": {},
   "outputs": [],
   "source": [
    "coefs_l1 = np.array([np.array(i.coef_).ravel() for i in logreg_l1])\n",
    "coefs_l2 = np.array([np.array(i.coef_).ravel() for i in logreg_l2])"
   ]
  },
  {
   "cell_type": "code",
   "execution_count": 39,
   "metadata": {},
   "outputs": [
    {
     "data": {
      "image/png": "[encoded data removed]",
      "text/plain": [
       "<Figure size 432x288 with 1 Axes>"
      ]
     },
     "metadata": {
      "needs_background": "light"
     },
     "output_type": "display_data"
    }
   ],
   "source": [
    "# Plot of coefficients vs. alphas\n",
    "#plt.figure(figsize = (16,10))\n",
    "for i in random.sample(range(coefs_l1.shape[1]), 20):\n",
    "        plt.plot(C, coefs_l1.T[i])\n",
    "plt.xscale('log')"
   ]
  },
  {
   "cell_type": "code",
   "execution_count": 40,
   "metadata": {},
   "outputs": [
    {
     "data": {
      "image/png": "[encoded data removed]",
      "text/plain": [
       "<Figure size 432x288 with 1 Axes>"
      ]
     },
     "metadata": {
      "needs_background": "light"
     },
     "output_type": "display_data"
    }
   ],
   "source": [
    "# Plot of coefficients vs. alphas\n",
    "#plt.figure(figsize = (16,10))\n",
    "for i in random.sample(range(coefs_l2.shape[1]), 20):\n",
    "        plt.plot(C, coefs_l2.T[i])\n",
    "plt.xscale('log')"
   ]
  }
 ],
 "metadata": {
  "kernelspec": {
   "display_name": "course_ml",
   "language": "python",
   "name": "course_ml"
  },
  "language_info": {
   "codemirror_mode": {
    "name": "ipython",
    "version": 3
   },
   "file_extension": ".py",
   "mimetype": "text/x-python",
   "name": "python",
   "nbconvert_exporter": "python",
   "pygments_lexer": "ipython3",
   "version": "3.8.5"
  },
  "nteract": {
   "version": "0.24.0"
  }
 },
 "nbformat": 4,
 "nbformat_minor": 4
}
