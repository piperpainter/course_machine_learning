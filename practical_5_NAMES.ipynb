{
 "cells": [
  {
   "cell_type": "markdown",
   "metadata": {},
   "source": [
    "# Practical 5 - Dimensionality Reduction"
   ]
  },
  {
   "cell_type": "code",
   "execution_count": 1,
   "metadata": {
    "execution": {
     "iopub.execute_input": "2020-07-15T13:35:43.740Z",
     "iopub.status.busy": "2020-07-15T13:35:43.677Z",
     "iopub.status.idle": "2020-07-15T13:35:48.320Z",
     "shell.execute_reply": "2020-07-15T13:35:48.260Z"
    }
   },
   "outputs": [],
   "source": [
    "import numpy as np\n",
    "import matplotlib.pyplot as plt\n",
    "import seaborn as sns; sns.set(context='talk',style='white',palette='colorblind')\n",
    "import pickle\n",
    "import matplotlib\n",
    "from sklearn.decomposition import PCA\n",
    "from sklearn.manifold import TSNE\n",
    "import scipy as sp"
   ]
  },
  {
   "cell_type": "markdown",
   "metadata": {},
   "source": [
    "## Task 0: Load and normalize count data"
   ]
  },
  {
   "cell_type": "markdown",
   "metadata": {},
   "source": [
    "This practical uses the data set from https://www.nature.com/articles/s41586-018-0654-5. This is single cell transcriptomics data from ~25,000 cells from the cortex. \n",
    "\n",
    "For each of these cells, the expression of several thousand genes was measured ```['counts']```. In the original study, the authors were interested in clustering the cells into types. \n",
    "\n",
    "We made a selection of 5000 cells and the 1000 most informative genes for run time reasons. We provide you with the original cell type labels determined by the authors for comparison ```['clusters']```.\n",
    "\n",
    "The following function will apply some preprocessing steps that are standard for transcriptomics data."
   ]
  },
  {
   "cell_type": "code",
   "execution_count": 2,
   "metadata": {
    "execution": {
     "iopub.execute_input": "2020-06-11T22:07:42.093Z",
     "iopub.status.busy": "2020-06-11T22:07:42.058Z",
     "iopub.status.idle": "2020-06-11T22:07:42.138Z",
     "shell.execute_reply": "2020-06-11T22:07:41.906Z"
    }
   },
   "outputs": [],
   "source": [
    "def lognormalize_counts(tasic_dict):\n",
    "\n",
    "    # normalize and logtransform counts\n",
    "    counts = tasic_dict['counts']\n",
    "    libsizes = counts.sum(axis=1)\n",
    "    CPM = counts / libsizes * 1e+6\n",
    "    logCPM = np.log2(CPM + 1)\n",
    "    tasic_dict['logCPM'] = np.array(logCPM)\n",
    "\n",
    "    return tasic_dict"
   ]
  },
  {
   "cell_type": "code",
   "execution_count": 4,
   "metadata": {
    "execution": {
     "iopub.execute_input": "2020-06-11T22:07:59.318Z",
     "iopub.status.busy": "2020-06-11T22:07:59.274Z",
     "iopub.status.idle": "2020-06-11T22:07:59.447Z",
     "shell.execute_reply": "2020-06-11T22:07:59.475Z"
    }
   },
   "outputs": [],
   "source": [
    "tasic_1k = lognormalize_counts(pickle.load(open('data/tasic_subset_1kselected.pickle', 'rb')))"
   ]
  },
  {
   "cell_type": "markdown",
   "metadata": {},
   "source": [
    "Have a look at ```['counts']```, ```['logPCM']``` and ```['clusters']``` to get a better understanding of the data. Plot a histogram of the cell type labels provided by  ```['clusters']```."
   ]
  },
  {
   "cell_type": "code",
   "execution_count": 13,
   "metadata": {},
   "outputs": [
    {
     "data": {
      "text/plain": [
       "dict_keys(['counts', 'genes', 'clusters', 'areas', 'clusterColors', 'clusterNames', 'logCPM'])"
      ]
     },
     "execution_count": 13,
     "metadata": {},
     "output_type": "execute_result"
    }
   ],
   "source": [
    "# Explore data\n",
    "tasic_1k.keys()"
   ]
  },
  {
   "cell_type": "code",
   "execution_count": 14,
   "metadata": {},
   "outputs": [
    {
     "data": {
      "text/plain": [
       "array(['1700047M11Rik', '1700063D05Rik', '2700046A07Rik', '2900052N01Rik',\n",
       "       '3110035E14Rik', '4632428N05Rik', '4930523C07Rik', '4930578C19Rik',\n",
       "       '4932438H23Rik', '5430416O09Rik', '5430435G22Rik', '5930403L14Rik',\n",
       "       '6330403K07Rik', '8430408G22Rik', 'A330048O09Rik', 'A730020M07Rik',\n",
       "       'AF251705', 'AI464131', 'AI467606', 'AU021092', 'AW112010', 'Aass',\n",
       "       'Abca8a', 'Abca9', 'Abcb1a', 'Abcc3', 'Abcc6', 'Abcc9', 'Abi3',\n",
       "       'Acot7', 'Acsbg1', 'Acta2', 'Adap2', 'Adarb2', 'Adcy2', 'Adcy4',\n",
       "       'Adcyap1', 'Adora2b', 'Afap1l2', 'Agmo', 'Aif1l', 'Ajuba',\n",
       "       'Akr1c14', 'Akr1c18', 'Aldh1a2', 'Aldoc', 'Alpl', 'Als2cl', 'Alx3',\n",
       "       'Angptl4', 'Ankrd66', 'Ankub1', 'Ano1', 'Ano3', 'Anxa1', 'Anxa2',\n",
       "       'Anxa3', 'Aoah', 'Aoc3', 'Aox1', 'Aox3', 'Ap1s2', 'Apln',\n",
       "       'Apobec1', 'Apobec3', 'Apod', 'Apoe', 'App', 'Aqp4', 'Arc',\n",
       "       'Arhgap30', 'Arhgef19', 'Arhgef5', 'Arpp21', 'Asb4', 'Aspa',\n",
       "       'Aspn', 'Atp13a4', 'Atp13a5', 'Atp1a2', 'Atp1a3', 'Atp1b1',\n",
       "       'Atp2a3', 'Atp6ap2', 'Atp6v1a', 'Atp6v1b2', 'Atp6v1c1', 'Atp6v1g2',\n",
       "       'Axl', 'BC051019', 'BC064078', 'BE949265', 'Baiap2', 'Basp1',\n",
       "       'Bcas1', 'Bcl2a1b', 'Bco2', 'Bdh2', 'Bdnf', 'Bex2', 'Bfsp2', 'Bgn',\n",
       "       'Bin2', 'Blnk', 'Bmp6', 'Btbd17', 'C030018K13Rik', 'C1qa', 'C1qb',\n",
       "       'C1qc', 'C1ql1', 'C1qtnf7', 'C2', 'C4b', 'C5ar1', 'Calb1', 'Calb2',\n",
       "       'Camk2n1', 'Camk4', 'Car14', 'Car4', 'Car8', 'Cartpt', 'Caskin2',\n",
       "       'Casp8', 'Casq2', 'Cav1', 'Cbln4', 'Cbs', 'Ccdc141', 'Ccdc68',\n",
       "       'Cck', 'Ccl12', 'Ccl19', 'Ccl2', 'Ccl3', 'Ccl6', 'Ccl9', 'Ccm2l',\n",
       "       'Ccr5', 'Ccrl2', 'Cd14', 'Cd24a', 'Cd300a', 'Cd33', 'Cd34', 'Cd37',\n",
       "       'Cd38', 'Cd40', 'Cd48', 'Cd53', 'Cd63', 'Cd82', 'Cd84', 'Cd86',\n",
       "       'Cd9', 'Cd97', 'Cdc42ep1', 'Cdh13', 'Cdh19', 'Cdh5', 'Cdkn2b',\n",
       "       'Cdkn2c', 'Ceacam1', 'Celf4', 'Celrr', 'Cfh', 'Cgnl1', 'Chat',\n",
       "       'Chd3os', 'Chgb', 'Chn1', 'Chodl', 'Chrdl1', 'Chrna6', 'Cldn10',\n",
       "       'Cldn11', 'Cldn14', 'Cldn5', 'Clec4a2', 'Clec4a3', 'Clec5a',\n",
       "       'Clic1', 'Cml5', 'Cmtm5', 'Cmtm7', 'Cnn2', 'Cnr1', 'Cobll1',\n",
       "       'Col1a1', 'Col1a2', 'Col3a1', 'Col4a5', 'Col4a6', 'Col6a1',\n",
       "       'Colec12', 'Cort', 'Cox6a2', 'Cp', 'Cped1', 'Cplx1', 'Cplx3',\n",
       "       'Cpne7', 'Cpq', 'Cpt1a', 'Crabp1', 'Crabp2', 'Crh', 'Crhbp',\n",
       "       'Crip1', 'Crip2', 'Crispld2', 'Crtac1', 'Cryab', 'Cryba4',\n",
       "       'Crybb1', 'Crym', 'Csf1r', 'Csf3r', 'Cspg4', 'Ctgf', 'Ctla2a',\n",
       "       'Ctla2b', 'Ctsc', 'Ctsh', 'Ctss', 'Ctxn1', 'Cx3cr1', 'Cxcl14',\n",
       "       'Cyba', 'Cyp1b1', 'Cyp27a1', 'Cyp2d22', 'Cyp2j12', 'Cyp2j9',\n",
       "       'Cyp4f14', 'Cyp4f15', 'Cysltr1', 'Cyth4', 'Daam2', 'Dbx2', 'Dcn',\n",
       "       'Ddc', 'Ddit4l', 'Ddx60', 'Defb1', 'Dennd1c', 'Des', 'Dio2',\n",
       "       'Dkk3', 'Dkkl1', 'Dlx6os1', 'Dner', 'Dnm1', 'Dock2', 'Dock8',\n",
       "       'Dusp14', 'Ebf1', 'Ecm2', 'Ecscr', 'Edn3', 'Ednra', 'Ednrb',\n",
       "       'Efhd1', 'Egflam', 'Egr1', 'Ehd2', 'Elmod1', 'Eltd1', 'Emcn',\n",
       "       'Emp2', 'Emp3', 'Emr1', 'Eng', 'Eno2', 'Enpep', 'Enpp2', 'Enpp6',\n",
       "       'Epas1', 'Ephb4', 'Ephx3', 'Ephx4', 'Epsti1', 'Erbb3', 'Erbb4',\n",
       "       'Erg', 'Ermn', 'Etnppl', 'Eva1a', 'Eva1b', 'Eya2', 'F11r', 'F13a1',\n",
       "       'F3', 'Fa2h', 'Fam107a', 'Fam180a', 'Fam19a1', 'Fam46a', 'Fas',\n",
       "       'Fcer1g', 'Fcgr1', 'Fcgr2b', 'Fcgr3', 'Fcgrt', 'Fcrls', 'Fermt3',\n",
       "       'Fezf2', 'Fgd2', 'Fgfr3', 'Fhl5', 'Fkbp10', 'Fli1', 'Flt1', 'Flt4',\n",
       "       'Fmo1', 'Fmod', 'Fn1', 'Folh1', 'Foxc1', 'Foxd1', 'Foxd2os',\n",
       "       'Foxf2', 'Foxq1', 'Foxs1', 'Fxyd6', 'Fxyd7', 'Fyb', 'Fzd2',\n",
       "       'Gabra1', 'Gabrg1', 'Gabrg2', 'Gad1', 'Gad2', 'Galnt4', 'Galnt6',\n",
       "       'Gap43', 'Gata2', 'Gatsl3', 'Gbp2', 'Gbp3', 'Gbp6', 'Gbp9', 'Gcgr',\n",
       "       'Gcnt1', 'Gfap', 'Ggt5', 'Ggta1', 'Gimap1', 'Gimap5', 'Gimap8',\n",
       "       'Gja1', 'Gjb1', 'Gjb2', 'Gjb6', 'Gjc3', 'Gli3', 'Glipr2',\n",
       "       'Gm10635', 'Gm10790', 'Gm11549', 'Gm11627', 'Gm12002', 'Gm12326',\n",
       "       'Gm13111', 'Gm13133', 'Gm13325', 'Gm13861', 'Gm14023', 'Gm20383',\n",
       "       'Gm2629', 'Gm266', 'Gm30571', 'Gm31409', 'Gm31813', 'Gm32688',\n",
       "       'Gm33302', 'Gm33858', 'Gm34050', 'Gm34280', 'Gm34439', 'Gm34654',\n",
       "       'Gm34829', 'Gm36028', 'Gm36365', 'Gm36394', 'Gm4491', 'Gm4951',\n",
       "       'Gm5083', 'Gm807', 'Gm8995', 'Gm973', 'Gmfg', 'Gna15', 'Gng11',\n",
       "       'Gng3', 'Got1', 'Gpm6a', 'Gpm6b', 'Gpr116', 'Gpr160', 'Gpr17',\n",
       "       'Gpr20', 'Gpr34', 'Gpr37l1', 'Gramd3', 'Grap', 'Greb1', 'Gria2',\n",
       "       'Grin2c', 'Grin3a', 'Grpr', 'Gsdmd', 'Gstm2', 'Gstt3', 'Hapln1',\n",
       "       'Havcr2', 'Hcar1', 'Hck', 'Hcls1', 'Hepacam', 'Heyl', 'Hhex',\n",
       "       'Higd1b', 'Hmcn1', 'Hmga2-ps1', 'Hmgcs2', 'Hmha1', 'Hpca',\n",
       "       'Hpcal4', 'Hprt', 'Hrct1', 'Hs3st2', 'Hsd11b1', 'Hspb1', 'Htr3a',\n",
       "       'Htra1', 'Htra3', 'Hyal1', 'Icam2', 'Id1', 'Id2', 'Id3', 'Idh3a',\n",
       "       'Ifi44', 'Ifi47', 'Ifitm1', 'Ifitm3', 'Igf1', 'Igf2', 'Igfbp2',\n",
       "       'Igfbp4', 'Igfbp6', 'Iigp1', 'Il15', 'Il1a', 'Il21r', 'Il2rg',\n",
       "       'Il33', 'Insc', 'Irf5', 'Irf7', 'Irgm2', 'Itga1', 'Itgam', 'Itgb2',\n",
       "       'Itgb5', 'Itih2', 'Itih3', 'Itih5', 'Itpka', 'Jam2', 'Kank1',\n",
       "       'Kcne4', 'Kcnip1', 'Kcnip3', 'Kcnip4', 'Kcnj10', 'Kcnj13',\n",
       "       'Kcnmb1', 'Kcnv1', 'Kctd11', 'Kctd12b', 'Kdelr3', 'Kdr', 'Kirrel2',\n",
       "       'Kit', 'Klf2', 'Klf4', 'Klhdc7a', 'Klhl13', 'Klhl6', 'Krt73',\n",
       "       'LOC102635912', 'LOC102636037', 'LOC105243044', 'LOC105243425',\n",
       "       'LOC105243532', 'LOC105243934', 'LOC105244211', 'LOC105244552',\n",
       "       'LOC105245602', 'LOC105245679', 'LOC105246387', 'LOC105246558',\n",
       "       'LOC105246818', 'Lamb2', 'Lamc3', 'Lamp5', 'Laptm5', 'Lcat',\n",
       "       'Ldb2', 'Lef1', 'Lfng', 'Lgals1', 'Lgals9', 'Lhx6', 'Lims2',\n",
       "       'Litaf', 'Lmod1', 'Lpar4', 'Lsr', 'Ltc4s', 'Lum', 'Luzp2', 'Ly6a',\n",
       "       'Ly6c1', 'Ly6g6e', 'Ly86', 'Lyn', 'Lypd6', 'Lypd6b', 'Mag', 'Mal',\n",
       "       'Mal2', 'Map1b', 'Map3k7cl', 'Mapk10', 'Mboat1', 'Mc3r', 'Mcam',\n",
       "       'Mef2c', 'Meg3', 'Megf10', 'Meox1', 'Mertk', 'Mfge8', 'Mfng',\n",
       "       'Mfsd2a', 'Mgp', 'Mgst1', 'Mia', 'Mir143hg', 'Mlc1', 'Mllt11',\n",
       "       'Mmp14', 'Mmrn2', 'Mog', 'Moxd1', 'Mpeg1', 'Mrc1', 'Mrvi1',\n",
       "       'Ms4a6b', 'Ms4a6d', 'Msn', 'Mt2', 'Mybpc1', 'Myct1', 'Myh11',\n",
       "       'Myl1', 'Myl4', 'Myl9', 'Myo1f', 'Naip5', 'Nap1l5', 'Napb', 'Nat1',\n",
       "       'Nat8', 'Ncald', 'Ncf1', 'Ncf2', 'Ncf4', 'Nckap1l', 'Nde1', 'Ndn',\n",
       "       'Ndnf', 'Ndrg2', 'Ndrg3', 'Ndrg4', 'Ndufa4l2', 'Neat1', 'Necab1',\n",
       "       'Nek7', 'Nes', 'Neu4', 'Neurl3', 'Neurod6', 'Nfam1', 'Nfatc1',\n",
       "       'Nfe2l2', 'Nid1', 'Ninj2', 'Nkx6-2', 'Nnat', 'Nod1', 'Nostrin',\n",
       "       'Notum', 'Npas1', 'Npy', 'Npy2r', 'Nr2f2', 'Nrarp', 'Nrgn',\n",
       "       'Nrip3', 'Nrn1', 'Nrsn1', 'Nrsn2', 'Nsf', 'Ntm', 'Ntsr2', 'Nwd1',\n",
       "       'Nxph1', 'Nxph4', 'Oaf', 'Oas1a', 'Oasl2', 'Ocln', 'Ogn', 'Olfm1',\n",
       "       'Olfm3', 'Olfml1', 'Olfml3', 'Olfr287', 'Olfr558', 'Olig1',\n",
       "       'Olig2', 'Omd', 'Opalin', 'Osbpl1a', 'Osmr', 'Ostn', 'P2ry12',\n",
       "       'P2ry13', 'P2ry6', 'Pak1', 'Pamr1', 'Paqr5', 'Parm1', 'Pbxip1',\n",
       "       'Pcolce', 'Pcp4', 'Pcp4l1', 'Pcsk2', 'Pde11a', 'Pde1a', 'Pdgfd',\n",
       "       'Pdgfra', 'Pdgfrb', 'Pdgfrl', 'Pdk4', 'Pdlim3', 'Pdp1', 'Pdyn',\n",
       "       'Pdzph1', 'Pear1', 'Pecam1', 'Penk', 'Pf4', 'Pfn2', 'Pglyrp1',\n",
       "       'Pgrmc1', 'Phkg1', 'Phldb2', 'Pik3ap1', 'Pla1a', 'Pla2g16',\n",
       "       'Pla2g7', 'Plcb3', 'Plcd4', 'Pld3', 'Pld4', 'Plekho2', 'Plin3',\n",
       "       'Plp1', 'Pls3', 'Plscr1', 'Plscr2', 'Plscr4', 'Pltp', 'Plxnb3',\n",
       "       'Pm20d1', 'Pmp22', 'Pnlip', 'Pnoc', 'Pon2', 'Pon3', 'Ppap2b',\n",
       "       'Ppapdc1a', 'Ppic', 'Ppp1r14a', 'Ppp1r3g', 'Ppp3r1', 'Prelp',\n",
       "       'Prkar1b', 'Prkcb', 'Prkcd', 'Prkcg', 'Prkch', 'Procr', 'Prodh',\n",
       "       'Prom1', 'Pros1', 'Prox1', 'Prr5l', 'Prrx1', 'Prss23', 'Psmb8',\n",
       "       'Psmb9', 'Ptgds', 'Ptgis', 'Pthlh', 'Ptk2b', 'Ptn', 'Ptpn18',\n",
       "       'Ptpn6', 'Ptprb', 'Ptprc', 'Ptprz1', 'Ptrf', 'Pvalb', 'Rab11fip1',\n",
       "       'Rab3a', 'Rab3b', 'Rab3c', 'Rab6a', 'Rac2', 'Rad54b', 'Ramp1',\n",
       "       'Ranbp3l', 'Rarres2', 'Rasal3', 'Rasgrp1', 'Rasgrp3', 'Rassf9',\n",
       "       'Rbp1', 'Rbp4', 'Rbpms', 'Rbpms2', 'Rcan2', 'Rcn3', 'Rcsd1',\n",
       "       'Reln', 'Renbp', 'Resp18', 'Rftn2', 'Rfx4', 'Rgs1', 'Rgs10',\n",
       "       'Rgs12', 'Rgs4', 'Rhbdf2', 'Rhoh', 'Rhoj', 'Rlbp1', 'Rnase4',\n",
       "       'Rnf14', 'Robo4', 'Rorb', 'Rpe65', 'Rpp25', 'Rprm', 'Rprml',\n",
       "       'Rsad2', 'Rtn1', 'Runx1', 'Rxfp1', 'S100a1', 'S100a10', 'S100a11',\n",
       "       'S100a13', 'S100a16', 'S100b', 'S1pr1', 'Sall3', 'Samsn1', 'Scg2',\n",
       "       'Scg5', 'Scrg1', 'Sctr', 'Sdc4', 'Sec14l5', 'Selplg', 'Sema3c',\n",
       "       'Sema5a', 'Sepp1', 'Serpinb1a', 'Serpinb6b', 'Serpine2',\n",
       "       'Serpinf1', 'Serping1', 'Serpinh1', 'Serpini1', 'Sez6', 'Sh3gl2',\n",
       "       'Sh3tc2', 'She', 'Sigirr', 'Siglech', 'Six5', 'Sla2', 'Slc11a1',\n",
       "       'Slc13a4', 'Slc14a1', 'Slc15a2', 'Slc16a9', 'Slc17a7', 'Slc17a8',\n",
       "       'Slc18a3', 'Slc19a3', 'Slc1a2', 'Slc1a3', 'Slc1a5', 'Slc22a6',\n",
       "       'Slc22a8', 'Slc24a2', 'Slc25a18', 'Slc2a10', 'Slc35d2', 'Slc38a11',\n",
       "       'Slc38a3', 'Slc38a5', 'Slc39a12', 'Slc52a3', 'Slc5a7', 'Slc6a1',\n",
       "       'Slc6a13', 'Slc6a20a', 'Slc7a10', 'Slc7a11', 'Slc7a2', 'Slc7a7',\n",
       "       'Slc9a3r1', 'Slco1a4', 'Slco1b2', 'Slco1c1', 'Slco2b1', 'Slfn5',\n",
       "       'Slfn8', 'Slitrk6', 'Smagp', 'Smo', 'Snap25', 'Snap47', 'Snca',\n",
       "       'Sncg', 'Snhg11', 'Snx10', 'Snx33', 'Sod3', 'Sorbs3', 'Sox10',\n",
       "       'Sox17', 'Sox21', 'Sox6', 'Sox7', 'Sp100', 'Sparc', 'Sparcl1',\n",
       "       'Spi1', 'Spidr', 'Spock3', 'Spon1', 'Spp1', 'Sqrdl', 'Srgn', 'Sst',\n",
       "       'St6galnac2', 'Stab1', 'Stk17b', 'Stmn1', 'Stmn2', 'Stmn3',\n",
       "       'Stx1a', 'Stxbp1', 'Stxbp6', 'Sult1a1', 'Susd3', 'Sv2b', 'Svep1',\n",
       "       'Syngr2', 'Synpr', 'Syp', 'Syt1', 'Syt5', 'Tac1', 'Tac2', 'Tagln',\n",
       "       'Tagln2', 'Tagln3', 'Tbx1', 'Tbx18', 'Tbx2', 'Tbxas1', 'Tcn2',\n",
       "       'Tek', 'Tfap2b', 'Tfcp2l1', 'Tgif1', 'Tgtp1', 'Th', 'Thsd1',\n",
       "       'Tie1', 'Tifab', 'Timp3', 'Timp4', 'Tinagl1', 'Tlcd1', 'Tlr13',\n",
       "       'Tlr2', 'Tlr3', 'Tlr4', 'Tm4sf1', 'Tmem100', 'Tmem119', 'Tmem173',\n",
       "       'Tmem176a', 'Tmem176b', 'Tmem204', 'Tmem252', 'Tmem255b', 'Tmem51',\n",
       "       'Tmem52', 'Tmem59l', 'Tmem63a', 'Tmem71', 'Tmem98', 'Tnfaip8l2',\n",
       "       'Tnfaip8l3', 'Tnfrsf13b', 'Tnfrsf17', 'Tnfrsf1a', 'Tnfsf10',\n",
       "       'Tnnc1', 'Tnnt1', 'Trf', 'Trh', 'Trhr', 'Tril', 'Trim12a',\n",
       "       'Trim12c', 'Trim30a', 'Trim34a', 'Trim47', 'Trp63', 'Tshz2',\n",
       "       'Tspan13', 'Tspan15', 'Tspan7', 'Tspo', 'Ttc3', 'Ttyh2', 'Tuba4a',\n",
       "       'Tubb2a', 'Tubb4a', 'Txnip', 'Tyrobp', 'Uaca', 'Uba7', 'Uchl1',\n",
       "       'Ucp3', 'Unc13c', 'Unc93b1', 'Upk1b', 'Upp1', 'Ushbp1', 'Usp18',\n",
       "       'Vamp5', 'Vav1', 'Vcam1', 'Vim', 'Vip', 'Vsnl1', 'Vstm2a', 'Vstm4',\n",
       "       'Vtn', 'Vwf', 'Wfdc1', 'Xdh', 'Xlr', 'Ywhah', 'Zbtb20', 'Zcchc12',\n",
       "       'Zcchc18', 'Zcchc24', 'Zfp36', 'Zfp36l1', 'Zic1', 'Zic3', 'Zic4',\n",
       "       'Zwint'], dtype='<U28')"
      ]
     },
     "execution_count": 14,
     "metadata": {},
     "output_type": "execute_result"
    }
   ],
   "source": [
    "tasic_1k['genes']"
   ]
  },
  {
   "cell_type": "code",
   "execution_count": 16,
   "metadata": {},
   "outputs": [
    {
     "data": {
      "text/plain": [
       "(5000,)"
      ]
     },
     "execution_count": 16,
     "metadata": {},
     "output_type": "execute_result"
    }
   ],
   "source": [
    "tasic_1k['clusters'].shape"
   ]
  },
  {
   "cell_type": "code",
   "execution_count": 20,
   "metadata": {},
   "outputs": [
    {
     "data": {
      "text/plain": [
       "(5000,)"
      ]
     },
     "execution_count": 20,
     "metadata": {},
     "output_type": "execute_result"
    }
   ],
   "source": [
    "tasic_1k['areas'].shape"
   ]
  },
  {
   "cell_type": "code",
   "execution_count": null,
   "metadata": {},
   "outputs": [],
   "source": [
    "# Plotting\n"
   ]
  },
  {
   "cell_type": "markdown",
   "metadata": {},
   "source": [
    "## Task 1: Linear dimensionality reduction with PCA\n",
    "\n",
    "In this task, you will use Principal Component Analysis (PCA) to reduce the dimensionality of the dataset.\n",
    "\n",
    "First, implement PCA \"by hand\". You can use eigenvalue/singular value decomposition from numpy/scipy but no `sklearn`-functions. Write a function that computes all possible principal components and returns them along with the fraction of variance they explain."
   ]
  },
  {
   "cell_type": "code",
   "execution_count": null,
   "metadata": {},
   "outputs": [],
   "source": [
    "def PCA_manual(data):\n",
    "    '''\n",
    "    Function that performs PCA on the input data\n",
    "\n",
    "    input: (cells, genes)-shaped array of log transformed cell counts\n",
    "    output:\n",
    "        fraction_variance_explained: (genes,)-shaped array with the fraction of variance explained by the individual PCs\n",
    "        principal_components: (genes, genes)-shaped array containing the principal components as columns\n",
    "    '''\n",
    "    ### NOTE: Make sure the function returns the PCs sorted by the fraction of variance explained! ###\n",
    "    ###       (First column of principal_components should hold the PC with the highest variance   ###\n",
    "    ###       explained -- fraction_variance_explained should also be sorted accordingly)          ###\n",
    "\n",
    "    # ---------------- INSERT CODE ----------------------\n",
    "\n",
    "    \n",
    "\n",
    "    # ---------------- END CODE -------------------------\n",
    "\n",
    "    return fraction_variance_explained, principal_components"
   ]
  },
  {
   "cell_type": "code",
   "execution_count": null,
   "metadata": {},
   "outputs": [],
   "source": [
    "var_expl, PCs = PCA_manual(tasic_1k['logCPM'])"
   ]
  },
  {
   "cell_type": "markdown",
   "metadata": {},
   "source": [
    "Before we explore the structure of the low-dimensional representation, we first want to know how much variance the first PCs explain: \n",
    "\n",
    "- Plot the fraction of variance explained by the `n`-th PC vs. `n`\n",
    "\n",
    "- Plot the cumulative fraction of variance explained by the first `n` PCs with largest eigenvalue vs. `n`\n",
    "\n",
    "From the latter plot you should be able to see how many PCs you need to keep to explain at least `x`% of the variance.\n",
    "\n",
    "How many components do you need to keep to explain 50%, 75%, 90% and 99%, respectively? Indicate this in your plot."
   ]
  },
  {
   "cell_type": "code",
   "execution_count": null,
   "metadata": {},
   "outputs": [],
   "source": [
    "n_PCs = len(var_expl)\n",
    "PC_ids = np.arange(1, n_PCs+1)\n",
    "\n",
    "plt.figure(figsize=(14, 7))\n",
    "\n",
    "plt.subplot(121)\n",
    "\n",
    "# Plot the variance explained of the n-th PC vs. n\n",
    "# ---------------- INSERT CODE ----------------------\n",
    "\n",
    "\n",
    "\n",
    "# ---------------- END CODE -------------------------\n",
    "\n",
    "plt.subplot(122)\n",
    "\n",
    "# Plot the cumulative variance explained for the n PCs with highest variance explained vs. n\n",
    "# Indicate how many components you need to keep to explain 50%, 75%, 90% and 99% in the plot.\n",
    "\n",
    "# ---------------- INSERT CODE ----------------------\n",
    "\n",
    "\n",
    "\n",
    "# ---------------- END CODE -------------------------"
   ]
  },
  {
   "cell_type": "markdown",
   "metadata": {},
   "source": [
    "YOUR ANSWER HERE"
   ]
  },
  {
   "cell_type": "markdown",
   "metadata": {},
   "source": [
    "Write a function to select the `n` PCs needed to explain at least `x`% of the variance and use this function to extract as many PCs as are needed to explain 75% of the variance. "
   ]
  },
  {
   "cell_type": "code",
   "execution_count": null,
   "metadata": {},
   "outputs": [],
   "source": [
    "def select_PCs(\n",
    "    variance_explained, principal_components, percent_variance=None):\n",
    "    '''Function that selects the first n principal components necessary to explain x% of the variance\n",
    "    input:\n",
    "        variance_explained: amount of variance explained by the individual PCs\n",
    "        principal_components: contains the principal components as columns\n",
    "        percent_variance: fraction of the variance, the all PCs that are kept explain\n",
    "    output:\n",
    "        variance_explained_kept: individual amount of variance explained for the remaining PCs\n",
    "        principal_components_kept: remaining principal components, shape (genes,n_PCs_kept)\n",
    "    '''\n",
    "\n",
    "    # ---------------- INSERT CODE ----------------------\n",
    "\n",
    "    \n",
    "    \n",
    "    # ---------------- END CODE -------------------------\n",
    "\n",
    "    return variance_explained_kept, principal_components_kept"
   ]
  },
  {
   "cell_type": "code",
   "execution_count": null,
   "metadata": {},
   "outputs": [],
   "source": [
    "_, PCs75 = select_PCs(var_expl, PCs, percent_variance=0.75)"
   ]
  },
  {
   "cell_type": "markdown",
   "metadata": {},
   "source": [
    "To compute the representation of the data in this lower dimensional representation, write a function that compute the PC scores for each cell, i.e. that projects the original data matrix on the low-dimensional subspace provided by the first `n` PCs:"
   ]
  },
  {
   "cell_type": "code",
   "execution_count": null,
   "metadata": {},
   "outputs": [],
   "source": [
    "def compute_PCA_scores(data, principal_components):\n",
    "    '''Function that returns the PC scores for each data point\n",
    "    input:\n",
    "        data                 --- (cells, genes)-shaped array of log transformed cell counts\n",
    "        principal_components --- contains the principal components as columns\n",
    "    output:\n",
    "        pc_scores            --- (cells, n_PCs_kept)-shaped array of PC scores\n",
    "    '''\n",
    "\n",
    "    # ---------------- INSERT CODE ----------------------\n",
    "\n",
    "    \n",
    "    \n",
    "    # ---------------- END CODE -------------------------\n",
    "\n",
    "    return pc_scores"
   ]
  },
  {
   "cell_type": "code",
   "execution_count": null,
   "metadata": {},
   "outputs": [],
   "source": [
    "tasic_1k['PCA_75'] = compute_PCA_scores(tasic_1k['logCPM'], PCs75)"
   ]
  },
  {
   "cell_type": "markdown",
   "metadata": {},
   "source": [
    "Visualize the top 5 PCs as a pairwise scatterplot. Use one subplot for each pair of components.\n",
    "\n",
    "Use the colors provided in `tasic_1k['clusterColors']` and the cluster information in `tasic_1k['clusters']` to color each data point according to its original cluster identity.\n",
    "\n",
    "The colors indicate the family of the cell type:\n",
    "\n",
    "- greenish colors: excitatory neurons\n",
    "- orange colors: somatostatin positive interneurons\n",
    "- pinkish colors: VIP-postive interneurons\n",
    "- reddish colors: parvalbumin positive interneurons\n",
    "- dark colors: non-neurons (glia etc)\n",
    "\n",
    "What do you observe?"
   ]
  },
  {
   "cell_type": "code",
   "execution_count": null,
   "metadata": {},
   "outputs": [],
   "source": [
    "def plot_PCs(data_transformed, color_per_datapoint):\n",
    "    '''Function that plots the scores of the 10 pairs of the top 5 PCs against each other.\n",
    "        inputs:\n",
    "            data_transformed    -- (cells, n_PCs_kept)-shaped array of PC scores\n",
    "            color_per_datapoint -- (cells,)-shaped array of color strings, one color for each cell\n",
    "    '''\n",
    "\n",
    "    # ---------------- INSERT CODE ----------------------\n",
    "\n",
    "    \n",
    "    \n",
    "    # ---------------- END CODE -------------------------"
   ]
  },
  {
   "cell_type": "code",
   "execution_count": null,
   "metadata": {},
   "outputs": [],
   "source": [
    "color_per_datapoint = tasic_1k['clusterColors'][tasic_1k['clusters']]\n",
    "plot_PCs(tasic_1k['PCA_75'], color_per_datapoint)"
   ]
  },
  {
   "cell_type": "markdown",
   "metadata": {},
   "source": [
    "YOUR ANSWER HERE"
   ]
  },
  {
   "cell_type": "markdown",
   "metadata": {},
   "source": [
    "## Task 2: Comparison with PCA implemented by sklearn\n",
    "\n",
    "Use the PCA implementation of sklearn to check whether your PCA implementation is correct and obtain some insights into numerical precision of the algorithms underlying PCA implementations."
   ]
  },
  {
   "cell_type": "code",
   "execution_count": null,
   "metadata": {},
   "outputs": [],
   "source": [
    "def PCA_sklearn(data):\n",
    "    '''\n",
    "    Function that performs PCA on the input data, using sklearn\n",
    "\n",
    "    input: (cells, genes)-shaped array of log transformed cell counts\n",
    "    output:\n",
    "        fraction_variance_explained: (genes,)-shaped array with the fraction of variance explained by the individual PCs\n",
    "        principal_components: (genes, genes)-shaped array containing the principal components as columns\n",
    "    '''\n",
    "\n",
    "    # ---------------- INSERT CODE ----------------------\n",
    "\n",
    "    \n",
    "    \n",
    "    # ---------------- END CODE -------------------------\n",
    "\n",
    "    return fraction_variance_explained, principal_components"
   ]
  },
  {
   "cell_type": "code",
   "execution_count": null,
   "metadata": {
    "execution": {
     "iopub.execute_input": "2020-06-11T22:18:44.632Z",
     "iopub.status.busy": "2020-06-11T22:18:44.610Z",
     "iopub.status.idle": "2020-06-11T22:18:44.967Z",
     "shell.execute_reply": "2020-06-11T22:18:45.297Z"
    }
   },
   "outputs": [],
   "source": [
    "# do sklearn-PCA on selected genes\n",
    "var_expl_sklearn, PCs_sklearn = PCA_sklearn(tasic_1k['logCPM'])\n",
    "# select components as before\n",
    "_, PCs_sklearn75 = select_PCs(var_expl_sklearn, PCs_sklearn, 0.75)\n",
    "# get PC scores\n",
    "PCA_75_sklearn = compute_PCA_scores(tasic_1k['logCPM'], PCs_sklearn75)"
   ]
  },
  {
   "cell_type": "markdown",
   "metadata": {},
   "source": [
    "To see if your manual PCA yielded the same PC weights as the sklearn PCA, we can just take the two matrices of principal components and plot their entries against each other. (Note: This again assumes they are sorted by variance explained and the order of dimensions in your weight matrix compared to the sklearn weight matrix is the same (change if necessary).)\n",
    "\n",
    "Use the following plot to compare the results to your own implementation (here plotting the weights of the first 100 PCs against each other). What do you observe?"
   ]
  },
  {
   "cell_type": "code",
   "execution_count": null,
   "metadata": {},
   "outputs": [],
   "source": [
    "n_evs_to_compare = 100\n",
    "\n",
    "plt.figure(figsize=(10, 5))\n",
    "plt.scatter(PCs_sklearn[:, :n_evs_to_compare].flatten(),\n",
    "            PCs[:, :n_evs_to_compare].flatten(), s=5, alpha=0.1)\n",
    "plt.plot([-.7, .7], [-.7, .7], ':', c='tab:gray', label='same sign', alpha=0.3)\n",
    "plt.plot([-.7, .7], [.7, -.7], '--', c='tab:gray', label='sign flipped', alpha=0.3)\n",
    "plt.legend()\n",
    "plt.xlabel('sklearn PCA weight')\n",
    "plt.ylabel('manual PCA weight')\n",
    "plt.title('Weights of the first %u manual PCs against the sklearn ones' % (n_evs_to_compare))\n",
    "\n",
    "sns.despine()"
   ]
  },
  {
   "cell_type": "markdown",
   "metadata": {},
   "source": [
    "YOUR ANSWER HERE"
   ]
  },
  {
   "cell_type": "markdown",
   "metadata": {},
   "source": [
    "Additional reading about the sign of PCs: https://stats.stackexchange.com/questions/88880/does-the-sign-of-scores-or-of-loadings-in-pca-or-fa-have-a-meaning-may-i-revers"
   ]
  },
  {
   "cell_type": "markdown",
   "metadata": {},
   "source": [
    "## Task 3: Nonlinear dimensionality reduction with t-SNE"
   ]
  },
  {
   "cell_type": "markdown",
   "metadata": {},
   "source": [
    "In this task, you will use the nonlinear dimensionality reduction technique tSNE and look at visualizations of the data set. Plot the result of default t-SNE with the original cluster colors. For this and the following tasks, use the PCs explaining 75% of the variance ```PCA_75_sklearn``` you computed above."
   ]
  },
  {
   "cell_type": "code",
   "execution_count": null,
   "metadata": {
    "code_folding": []
   },
   "outputs": [],
   "source": [
    "def plot_tsne(tsne_results, clusters=tasic_1k['clusters'], labels=['']):\n",
    "    '''Plotting function for tsne results, creates one or multiple plots of tSNE-transformed data.\n",
    "       If the clustering is the original one (default), original cluster colors will be used. Otherwise,\n",
    "       colors will be a random permutation.\n",
    "\n",
    "    input:\n",
    "        tsne_results: (n, 2)-shaped array containing tSNE-transformed data or list of such arrays\n",
    "                      (output of the fit_transform function of sklearn tSNE)\n",
    "        clusters: (n,)-shaped array containing cluster labels or list of such arrays\n",
    "        labels: optional, list of titles for the subplots\n",
    "    '''\n",
    "\n",
    "    if type(tsne_results) == list:  # make sure we can do both single and multiple plots and are flexible regarding input\n",
    "        num_plots = len(tsne_results)\n",
    "    else:\n",
    "        num_plots = 1\n",
    "        tsne_results = [tsne_results]\n",
    "    if type(clusters) == list:\n",
    "        num_clusters = len(clusters)\n",
    "        num_plots = num_plots * num_clusters\n",
    "        tsne_results = tsne_results * num_clusters\n",
    "    else:\n",
    "        clusters = [clusters] * num_plots\n",
    "\n",
    "    if len(labels) == 1:\n",
    "        labels = labels * num_plots\n",
    "\n",
    "    n_clusters = len(np.unique(clusters))      # ensure a long enough color list even if we plot more than\n",
    "    n_colors = len(tasic_1k['clusterColors'])  # the original number of clusters\n",
    "    if n_clusters > n_colors:\n",
    "        n_extra_colors = n_clusters - n_colors\n",
    "        colors = np.concatenate((tasic_1k['clusterColors'], tasic_1k['clusterColors'][:n_extra_colors]))\n",
    "    else:\n",
    "        colors = tasic_1k['clusterColors']\n",
    "\n",
    "    fig, ax = plt.subplots(num_plots, 1, figsize=(10, num_plots*10))\n",
    "    if num_plots == 1:\n",
    "        if not np.all(tasic_1k['clusters'] == clusters[0]):\n",
    "            current_colors = np.random.permutation(colors)\n",
    "        else:\n",
    "            current_colors = colors\n",
    "        ax.scatter(tsne_results[0][:, 0], tsne_results[0][:, 1], s=1, color=current_colors[clusters[0]])\n",
    "        ax.set_title(labels[0])\n",
    "        ax.set_xticks([])\n",
    "        ax.set_yticks([])\n",
    "        ax.set_axis_off()\n",
    "    else:\n",
    "        for i in range(num_plots):\n",
    "            if not np.all(tasic_1k['clusters'] == clusters[i]):\n",
    "                current_colors = np.random.permutation(colors)\n",
    "            else:\n",
    "                current_colors = colors\n",
    "            ax[i].scatter(tsne_results[i][:, 0], tsne_results[i][:, 1], s=1, color=current_colors[clusters[i]])\n",
    "            ax[i].set_title(labels[i])\n",
    "            ax[i].set_xticks([])\n",
    "            ax[i].set_yticks([])\n",
    "            ax[i].set_axis_off()"
   ]
  },
  {
   "cell_type": "markdown",
   "metadata": {},
   "source": [
    "Run the following cells to set the random seed/random state, run tSNE and plot the results."
   ]
  },
  {
   "cell_type": "code",
   "execution_count": null,
   "metadata": {
    "code_folding": []
   },
   "outputs": [],
   "source": [
    "# fit TSNE\n",
    "tsne_default = TSNE(random_state=1)\n",
    "tsne_results = tsne_default.fit_transform(PCA_75_sklearn)"
   ]
  },
  {
   "cell_type": "code",
   "execution_count": null,
   "metadata": {},
   "outputs": [],
   "source": [
    "# Plotting\n",
    "\n",
    "original_clusters = tasic_1k['clusters']\n",
    "plot_tsne(tsne_results, original_clusters, labels=['default t-SNE'])"
   ]
  },
  {
   "cell_type": "markdown",
   "metadata": {},
   "source": [
    "t-SNE has one main parameter called perplexity, which trades of local and global structure. Its default value is 30. Run the tSNE with some other perplexity values (e.g. 5, 100), plot the results next to each other and explain what you observe. In particular, compare with the PCA plot above."
   ]
  },
  {
   "cell_type": "code",
   "execution_count": null,
   "metadata": {},
   "outputs": [],
   "source": [
    "# try different perplexities\n",
    "\n",
    "# ---------------- INSERT CODE ----------------------\n",
    "\n",
    "\n",
    "\n",
    "# ---------------- END CODE -------------------------"
   ]
  },
  {
   "cell_type": "code",
   "execution_count": null,
   "metadata": {},
   "outputs": [],
   "source": [
    "# plot results\n",
    "\n",
    "# ---------------- INSERT CODE ----------------------\n",
    "\n",
    "\n",
    "\n",
    "# ---------------- END CODE -------------------------"
   ]
  },
  {
   "cell_type": "markdown",
   "metadata": {},
   "source": [
    "YOUR ANSWER HERE"
   ]
  }
 ],
 "metadata": {
  "kernelspec": {
   "display_name": "course_ml",
   "language": "python",
   "name": "course_ml"
  },
  "language_info": {
   "codemirror_mode": {
    "name": "ipython",
    "version": 3
   },
   "file_extension": ".py",
   "mimetype": "text/x-python",
   "name": "python",
   "nbconvert_exporter": "python",
   "pygments_lexer": "ipython3",
   "version": "3.8.5"
  },
  "nteract": {
   "version": "0.24.0"
  },
  "varInspector": {
   "cols": {
    "lenName": 16,
    "lenType": 16,
    "lenVar": 40
   },
   "kernels_config": {
    "python": {
     "delete_cmd_postfix": "",
     "delete_cmd_prefix": "del ",
     "library": "var_list.py",
     "varRefreshCmd": "print(var_dic_list())"
    },
    "r": {
     "delete_cmd_postfix": ") ",
     "delete_cmd_prefix": "rm(",
     "library": "var_list.r",
     "varRefreshCmd": "cat(var_dic_list()) "
    }
   },
   "types_to_exclude": [
    "module",
    "function",
    "builtin_function_or_method",
    "instance",
    "_Feature"
   ],
   "window_display": false
  }
 },
 "nbformat": 4,
 "nbformat_minor": 4
}
