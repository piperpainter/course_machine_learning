{
 "cells": [
  {
   "cell_type": "markdown",
   "metadata": {},
   "source": [
    "# Practical 2"
   ]
  },
  {
   "cell_type": "markdown",
   "metadata": {},
   "source": [
    "# Task 1: The Data\n",
    "\n",
    "We use the mouse protein expression dataset: https://archive.ics.uci.edu/ml/datasets/Mice+Protein+Expression\n",
    "Please use the code provided below for loading the dataset.\n",
    "Let's start with a bit of exploration.\n",
    "\n",
    "### Tasks 1.1: Dataset Exploration \n",
    "- How many samples / features are provided?\n",
    "- How many labels does the dataset have?\n",
    "- What is the value range of the individuals predictors?\n",
    "- Visualize the 10 first samples of the dataset in a form that highlights their differences.\n",
    "- Visualize the variance of each predictor.\n"
   ]
  },
  {
   "cell_type": "code",
   "execution_count": 1,
   "metadata": {},
   "outputs": [],
   "source": [
    "import pandas as pd\n",
    "import numpy as np\n",
    "from matplotlib import pyplot as plt\n",
    "\n",
    "file = 'data/Data_Cortex_Nuclear.csv'\n",
    "df = pd.read_csv(file)\n",
    "\n",
    "N = 10  # use only every tenth sample\n",
    "X_all = df.iloc[::N,1:65].to_numpy()\n",
    "t_all = (df['Behavior'] == 'S/C').to_numpy()[::N]\n",
    "\n",
    "idx = ~np.any(np.isnan(X_all), axis=1)\n",
    "X_all = X_all[idx]\n",
    "t_all = t_all[idx]"
   ]
  },
  {
   "cell_type": "markdown",
   "metadata": {},
   "source": [
    "**Task 1.2: Data Preprocessing**:  \n",
    "- Write a function `split_data(X, y, frac, seed)` that first shuffles your training data and then splits it into a training and a test set. `frac` determines the relative size of the test dataset, `seed` makes sure we get reproducible \n",
    "results.  \n",
    "- Write a function `preprocess(X)` which zero-centers your data and sets variance to one (per-feature)."
   ]
  },
  {
   "cell_type": "code",
   "execution_count": 3,
   "metadata": {},
   "outputs": [],
   "source": [
    "def split_data(X, y, frac=0.3, seed=None):\n",
    "    if seed is not None:\n",
    "        np.random.seed(seed)\n",
    "\n",
    "    ### implement the function here"
   ]
  },
  {
   "cell_type": "markdown",
   "metadata": {},
   "source": [
    "# Task 2: LDA\n",
    "\n",
    "First, use Linear Discriminant Analysis to separate the classes. As discussed in the Bishop in pg. 186-189, we can find a weight vector $\\vec{w}$ that performs a projection of the i-th input data point $\\vec{x}_i$\n",
    "\n",
    "$p =   \\vec{w}^T \\vec{x}_i$\n",
    "\n",
    "that optimally separates the classes.\n",
    "\n",
    "Use the analytic solution to compute the optimal weights $\\vec{w}$ from the training set data. \n",
    "\n",
    "** Task 2.1 ***\n",
    "\n",
    "1. Implement a function `compute_lda_weights(x, y)` manually, which carries out LDA using the data `x,y`. \n",
    "2. Apply this function on your training data.\n",
    "3. Visualize the obtained weight vector $\\vec{w}$ using a `plt.stemplot`."
   ]
  },
  {
   "cell_type": "code",
   "execution_count": 5,
   "metadata": {},
   "outputs": [
    {
     "data": {
      "text/plain": [
       "Text(0.5, 0, 'predictors')"
      ]
     },
     "execution_count": 5,
     "metadata": {},
     "output_type": "execute_result"
    },
    {
     "data": {
      "image/png": "[encoded data removed]",
      "text/plain": [
       "<Figure size 432x288 with 1 Axes>"
      ]
     },
     "metadata": {
      "needs_background": "light"
     },
     "output_type": "display_data"
    }
   ],
   "source": [
    "# X, X_test, t, t_test = split_data(X_all, t_all, seed=1)\n",
    "# m0, m1, mdiff, w_lda = compute_lda_weights(X, t)\n",
    "\n",
    "w_lda = np.random.uniform(-1, 1, 50)  # example data\n",
    "plt.stem(w_lda.flatten(), use_line_collection=True)\n",
    "plt.title('Computed LDA weights')\n",
    "plt.ylabel('weight')\n",
    "plt.xlabel('predictors')"
   ]
  },
  {
   "cell_type": "markdown",
   "metadata": {},
   "source": [
    "### Task 2.3\n",
    "\n",
    "Project the training data and the test data on $\\vec{w}$. Visualize the class separation using a two-color histogram. \n",
    "- Is the class separation good?\n",
    "- Is there a big difference between training and test data?"
   ]
  },
  {
   "cell_type": "code",
   "execution_count": 7,
   "metadata": {},
   "outputs": [
    {
     "data": {
      "image/png": "[encoded data removed]",
      "text/plain": [
       "<Figure size 432x288 with 1 Axes>"
      ]
     },
     "metadata": {
      "needs_background": "light"
     },
     "output_type": "display_data"
    }
   ],
   "source": [
    "a, b = np.random.normal(2, 1, 20), np.random.normal(0, 1, 20)  # example data\n",
    "\n",
    "plt.title('Training data projection')\n",
    "_ = plt.hist(a,label='class 0',alpha=0.5)\n",
    "_ = plt.hist(b,label='class 1',alpha=0.5)"
   ]
  },
  {
   "cell_type": "markdown",
   "metadata": {},
   "source": [
    "### Task 2.4 \n",
    "\n",
    "Now we make class predictions based on the projections. Read https://en.wikipedia.org/wiki/Linear_discriminant_analysis#Fisher's_linear_discriminant and compute threshold $c$ for the projected values $p$ based on the training data. Print the value of $c$ and plot $c$ into the histograms of projected values you made before!\n",
    "\n",
    "Use $c$ to assign class labels for training and test set. Determine the classification errors (in terms of accuracy) on both datasets and print them. "
   ]
  },
  {
   "cell_type": "markdown",
   "metadata": {},
   "source": [
    "## Task 3: Logistic Regression\n",
    "\n",
    "Next, we will consider classification using Logistic Regression. \n",
    "\n",
    "For this task, we will use a different dataset:  \n",
    "It consists of activations from a convolutional neural network (ResNet18) for images of cats and dogs.\n",
    "The dataset contains 2,000 samples (i.e. CNN activations) and 256 features (i.e. the CNN activations have 256 dimensions). A target value of 0 indicates a cat, 1 a dog.\n",
    "\n",
    "Below, you find all imports that are necessary.\n"
   ]
  },
  {
   "cell_type": "code",
   "execution_count": 20,
   "metadata": {},
   "outputs": [],
   "source": [
    "import numpy as np\n",
    "from sklearn.linear_model import LogisticRegression\n",
    "import pickle\n",
    "\n",
    "X_all, t_all = pickle.load(open('data/cnn_features.pickle', 'rb'))"
   ]
  },
  {
   "cell_type": "markdown",
   "metadata": {},
   "source": [
    "**Task 3.0: Normalize the data**\n",
    "\n",
    "Make sure the data has has zero mean and variance 1 per feature."
   ]
  },
  {
   "cell_type": "markdown",
   "metadata": {},
   "source": [
    "**Task 3.1: Iterative Reweighted Least Squares**\n",
    "\n",
    "1. Implement the IRLS algorithm and output at each iteration the current training accuracy. Remember the weight are updated according to:\n",
    "$$ w' = w - ( \\Phi^T R \\Phi ) ^ {-1} \\Phi^T (y - t)$$\n",
    "Where $y$ is the prediction, $t$ the ground truth target, $R$ the weighting matrix and $\\Phi$ the design matrix.  \n",
    "Hints:  \n",
    "(a) There is a bias term in logistic regression  \n",
    "(b) Use a small value for weight init to avoid numerical problems.\n",
    "\n",
    "2. Apply the IRLS algorithm on data and compute the test accuracy.\n",
    "3. Compare the results of your implementation to the sklearn implementation of `LogisticRegression(penalty='none')`. Do you get the same result?"
   ]
  },
  {
   "cell_type": "markdown",
   "metadata": {},
   "source": [
    "**Task 3.2: Logistic Regression with Regularization**\n",
    "\n",
    "1. Set sklearn's penalty parameter to `l1` and `l2`. Use the range `np.linspace(0.02, 1, 25)` for the parameter `C`, which controls the strength of regularization. Where is the regularization strongest, for small or big `C`?   \n",
    "Hint: For `l1` regularization you can use the `saga` solver.\n",
    "2. Plot strength of regularization over accuracy. Does regularization improve the scores?\n",
    "3. Visualize the coefficients (or just a subset of all coefficient for a better overview) of the regularized settings and the unregularized setting. What do you observe?\n",
    "3. Compare the coefficients to the LDA weights."
   ]
  },
  {
   "cell_type": "code",
   "execution_count": 13,
   "metadata": {},
   "outputs": [],
   "source": [
    "from matplotlib import pyplot as plt"
   ]
  },
  {
   "cell_type": "code",
   "execution_count": 14,
   "metadata": {},
   "outputs": [],
   "source": [
    "# regplot = [None, None, None]\n",
    "# l1_plot, = plt.plot(np.linspace(0.02, 1, 25), scores['l1'], '-o')\n",
    "# l1_plot.set_label('l1')\n",
    "# l2_plot, = plt.plot(np.linspace(0.02, 1, 25), scores['l2'], '-o')\n",
    "# l2_plot.set_label('l2')\n",
    "# noreg_plot, = plt.plot(np.linspace(0.02, 1, 25), [score_noreg]*25, '-o')\n",
    "# noreg_plot.set_label('noreg')\n",
    "# plt.legend()\n",
    "# plt.show()"
   ]
  }
 ],
 "metadata": {
  "kernelspec": {
   "display_name": "Python 3",
   "language": "python",
   "name": "python3"
  },
  "language_info": {
   "codemirror_mode": {
    "name": "ipython",
    "version": 3
   },
   "file_extension": ".py",
   "mimetype": "text/x-python",
   "name": "python",
   "nbconvert_exporter": "python",
   "pygments_lexer": "ipython3",
   "version": "3.8.5"
  },
  "nteract": {
   "version": "0.24.0"
  }
 },
 "nbformat": 4,
 "nbformat_minor": 4
}
